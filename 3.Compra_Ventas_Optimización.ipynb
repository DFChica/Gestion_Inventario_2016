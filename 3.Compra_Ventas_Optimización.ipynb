{
 "cells": [
  {
   "cell_type": "markdown",
   "id": "a8e1a5a3",
   "metadata": {
    "papermill": {
     "duration": 0.019133,
     "end_time": "2024-06-21T21:39:10.483419",
     "exception": false,
     "start_time": "2024-06-21T21:39:10.464286",
     "status": "completed"
    },
    "tags": []
   },
   "source": [
    "# **<font color = \"White\">✨Análisis y optimización de inventarios, compras y ventas: Un proyecto integral de análisis de datos✨</font>**\n",
    "\n",
    "**Resumen del proyecto**\n",
    "\n",
    "Este proyecto tiene como objetivo mejorar las prácticas de gestión de inventario de, una empresa minorista de vinos y licores que opera en múltiples ubicaciones. Bodega Inteligente, gestiona ventas y costos de bienes vendidos que alcanzan cientos de millones, lo que hace que las hojas de cálculo tradicionales sean insuficientes. El vasto volumen de datos, que incluye millones de registros de ventas, compras e inventario, requiere un enfoque sofisticado para un análisis efectivo. El objetivo de este proyecto es aprovechar el análisis de datos extensivo para optimizar el control de inventario y extraer información valiosa de las operaciones de la empresa, particularmente en ventas y compras. Las tareas del proyecto se dividen en dos objetivos principales:\n",
    "\n",
    "- Analizar el proceso de gestión de inventario y proporcionar recomendaciones para su optimización.\n",
    "- Extraer información empresarial significativa de los datos y proporcionar recomendaciones prácticas.\n",
    "\n",
    "Resumen de las tareas del proyecto:\n",
    "\n",
    "**`Parte I: Análisis Exploratorio de Datos, Limpieza y Preprocesamiento`**\n",
    "La empresa proporcionó seis conjuntos de datos de operaciones comerciales para el año que finaliza en 2016. El conjunto de datos incluye:\n",
    "\n",
    "- 2017PurchasePricesDec\n",
    "- Beginning inventory for 2016\n",
    "- Ending inventory for 2016\n",
    "- Purchase invoices for 2016\n",
    "- Purchase Price\n",
    "- Sales data\n",
    "\n",
    "Dado el volumen de datos, puede haber instancias donde los datos estén desordenados e inconsistentes. Es necesario explorarlos, limpiarlos, evaluarlos, y identificar las tendencias clave e inconsistencias. Esta es la parte dende entramos en acción:\n",
    "\n",
    "- `Explorar los datos`: Cargar los datos y obtener una visión general. Identificar cualquier irregularidad.\n",
    "- `Limpiar y preprocesar los datos`\n",
    "  - `Identificar y manejar valores faltantes y duplicados`\n",
    "  - `Estandarizar o eliminar inconsistencias y entradas erróneas`\n",
    "  - `Identificar valores atípicos o datos anómalos`\n",
    "  - `Fusionar tablas relacionadas para facilitar el manejo y procesamiento`\n",
    "\n",
    "`Parte II y Parte III ---> Análisis de Datos Exploratorio y Visualización`\n",
    "\n",
    "**`Parte II: Análisis y Optimización de Inventario`**\n",
    "\n",
    "- Realizar un Análisis de Control de Inventario basado en parámetros como Tiempo de Entrega (LT), Stock de Seguridad, Punto de Reorden y Análisis ABC.\n",
    "- Extraer información empresarial significativa relacionada con el inventario respondiendo las siguientes preguntas:\n",
    "\n",
    "  1.  ¿Qué productos tienen altos recuentos de inventario al final del período de inventario y caen en la Clase A en el análisis de inventario ABC?\n",
    "  2.  ¿Qué productos tienen bajos recuentos de inventario al final del período de inventario, registraron ventas en el año anterior y caen en la Clase C en el análisis de inventario ABC?\n",
    "  3.  Identificar productos con grandes inventarios pero bajas ventas anuales, y a la inversa, utilizar la relación de ventas anuales a inventario final para este análisis.\n",
    "  4.  ¿Los productos con mayores stocks de seguridad registran mayores volúmenes de ventas, y a qué categoría pertenecen en el Análisis ABC?\n",
    "  5.  Listar los 10 productos principales que requieren reordenamiento inmediato junto con sus cantidades de reorden.\n",
    "  6.  Determinar la contribución de cada categoría al ingreso total basado en el análisis de inventario ABC.\n",
    "  7.  Identificar los 10 productos principales de cada categoría que más contribuyen al ingreso total anual.\n",
    "  8.  Identificar los 10 productos principales de cada categoría que menos contribuyen al ingreso total anual.\n",
    "\n",
    "**`Parte III: Extracción de Información Significativa para Compras y Ventas`**\n",
    "\n",
    "Extraer información empresarial significativa relacionada con compras y ventas respondiendo las siguientes preguntas:\n",
    "\n",
    "1.  ¿Quiénes son los proveedores importantes? Evaluar con base en las cantidades de artículos suministrados, valores de los artículos y su contribución al ingreso total de la empresa.\n",
    "2.  ¿Quiénes son los proveedores menos importantes? Evaluar con base en las cantidades de artículos suministrados, valores de los artículos y su contribución al ingreso total de la empresa.\n",
    "3.  ¿Cuál es el período promedio de ejecución de pagos para cada proveedor y cómo se correlaciona con la cantidad o el valor de las compras?\n",
    "4.  ¿Qué productos se venden más en términos de cantidad y monto de ventas en dólares, y, por el contrario, cuáles se venden menos?\n",
    "5.  ¿Cómo se compara el rendimiento de ventas de diferentes tiendas y cuáles son las 10 tiendas principales con mayor rendimiento en ventas?\n",
    "6.  ¿Qué tamaño de producto se vende más?\n",
    "7.  ¿Podemos proyectar e identificar las tendencias de ventas a lo largo del año?\n",
    "\n",
    "**Conclusión:**  \n",
    "Las ideas derivadas de estos análisis proporcionarán recomendaciones para gestionar el inventario y otras operaciones comerciales de manera más eficiente y sostenible."
   ]
  },
  {
   "cell_type": "markdown",
   "id": "fbe34be9",
   "metadata": {
    "papermill": {
     "duration": 0.018073,
     "end_time": "2024-06-21T21:39:10.522061",
     "exception": false,
     "start_time": "2024-06-21T21:39:10.503988",
     "status": "completed"
    },
    "tags": []
   },
   "source": [
    "# **<font color = \"white\">Part I:  Exploración y limpieza de datos</font>**"
   ]
  },
  {
   "cell_type": "markdown",
   "id": "e311c68e",
   "metadata": {
    "papermill": {
     "duration": 0.017999,
     "end_time": "2024-06-21T21:39:10.558690",
     "exception": false,
     "start_time": "2024-06-21T21:39:10.540691",
     "status": "completed"
    },
    "tags": []
   },
   "source": [
    "## `1.1 Importación de bibliotecas y frameworks`\n"
   ]
  },
  {
   "cell_type": "code",
   "execution_count": null,
   "id": "43a085c9",
   "metadata": {
    "execution": {
     "iopub.execute_input": "2024-06-21T21:39:10.597587Z",
     "iopub.status.busy": "2024-06-21T21:39:10.597201Z",
     "iopub.status.idle": "2024-06-21T21:39:11.525355Z",
     "shell.execute_reply": "2024-06-21T21:39:11.523922Z"
    },
    "papermill": {
     "duration": 0.950451,
     "end_time": "2024-06-21T21:39:11.528037",
     "exception": false,
     "start_time": "2024-06-21T21:39:10.577586",
     "status": "completed"
    },
    "tags": []
   },
   "outputs": [],
   "source": [
    "# Este código importa varias bibliotecas necesarias para análisis de datos, desactiva las advertencias para\n",
    "# mantenerla salida limpia y muestra la versión de pandas que se está utilizando.\n",
    "import numpy as np\n",
    "import pandas as pd\n",
    "import re\n",
    "import random\n",
    "import warnings\n",
    "warnings.filterwarnings(\"ignore\") # Turn off warnings \n",
    "print('Pandas version i am using:', pd.__version__)"
   ]
  },
  {
   "cell_type": "code",
   "execution_count": 6,
   "id": "5a5f2074",
   "metadata": {
    "execution": {
     "iopub.execute_input": "2024-06-21T21:39:11.567143Z",
     "iopub.status.busy": "2024-06-21T21:39:11.566685Z",
     "iopub.status.idle": "2024-06-21T21:39:12.997306Z",
     "shell.execute_reply": "2024-06-21T21:39:12.996089Z"
    },
    "papermill": {
     "duration": 1.453169,
     "end_time": "2024-06-21T21:39:13.000121",
     "exception": false,
     "start_time": "2024-06-21T21:39:11.546952",
     "status": "completed"
    },
    "tags": []
   },
   "outputs": [],
   "source": [
    "import matplotlib.pyplot as plt\n",
    "import seaborn as sns\n",
    "import matplotlib_inline.backend_inline\n",
    "from matplotlib.dates import DateFormatter\n",
    "import pandas as pd\n",
    "\n",
    "# Configuración del formato de salida\n",
    "matplotlib_inline.backend_inline.set_matplotlib_formats(\"svg\")\n",
    "\n",
    "# Definición y aplicación de estilos de gráficos\n",
    "def set_default_style():\n",
    "    plt.style.use(['ggplot'])\n",
    "    plt.rc('axes', edgecolor='w', titlesize=12, titleweight='bold', labelsize=11, labelcolor='tab:blue', \n",
    "           labelweight='bold', grid=False)\n",
    "    plt.rc('text', color='tomato')\n",
    "    plt.rc('xtick', labelsize=10, color='tab:blue')\n",
    "    plt.rc('ytick', labelsize=10, color='tab:blue') \n",
    "    plt.rc('figure', figsize=(10, 4), dpi=150)\n",
    "\n",
    "set_default_style()\n",
    "\n",
    "# Configuración de opciones de visualización de Pandas\n",
    "pd.set_option('display.max_columns', 100)\n",
    "pd.set_option('display.width', 200)\n"
   ]
  },
  {
   "cell_type": "markdown",
   "id": "48df0339",
   "metadata": {
    "papermill": {
     "duration": 0.018266,
     "end_time": "2024-06-21T21:39:13.037124",
     "exception": false,
     "start_time": "2024-06-21T21:39:13.018858",
     "status": "completed"
    },
    "tags": []
   },
   "source": [
    "## `1.2 Cargar/importar los conjuntos de datos`"
   ]
  },
  {
   "cell_type": "code",
   "execution_count": null,
   "id": "52ebe0b1",
   "metadata": {
    "execution": {
     "iopub.execute_input": "2024-06-21T21:39:13.076141Z",
     "iopub.status.busy": "2024-06-21T21:39:13.075755Z",
     "iopub.status.idle": "2024-06-21T21:39:13.087674Z",
     "shell.execute_reply": "2024-06-21T21:39:13.086392Z"
    },
    "papermill": {
     "duration": 0.033929,
     "end_time": "2024-06-21T21:39:13.090053",
     "exception": false,
     "start_time": "2024-06-21T21:39:13.056124",
     "status": "completed"
    },
    "tags": []
   },
   "outputs": [],
   "source": [
    "import os\n",
    "\n",
    "# Identificar el directorio de conjuntos de datos\n",
    "ruta_directorio = 'D:\\\\Documentos\\\\Gestion_Inventario\\\\ArchivosCVSOriginales'\n",
    "for dirname, _, filenames in os.walk(ruta_directorio):\n",
    "    for filename in filenames:\n",
    "        print(os.path.join(dirname, filename))\n"
   ]
  },
  {
   "cell_type": "code",
   "execution_count": 8,
   "id": "6cbe62e4",
   "metadata": {
    "execution": {
     "iopub.execute_input": "2024-06-21T21:39:13.130589Z",
     "iopub.status.busy": "2024-06-21T21:39:13.130219Z",
     "iopub.status.idle": "2024-06-21T21:39:27.729932Z",
     "shell.execute_reply": "2024-06-21T21:39:27.728917Z"
    },
    "papermill": {
     "duration": 14.623638,
     "end_time": "2024-06-21T21:39:27.732454",
     "exception": false,
     "start_time": "2024-06-21T21:39:13.108816",
     "status": "completed"
    },
    "tags": []
   },
   "outputs": [],
   "source": [
    "# Utiliza el método pd.read_csv() de la librería Pandas para leer archivos CSV desde rutas específicas en el sistema local.\n",
    "beginning_inventory = pd.read_csv('D:\\\\Documentos\\\\Gestion_Inventario\\\\ArchivosCVSOriginales\\\\BegInvFINAL12312016.csv')\n",
    "ending_inventory = pd.read_csv('D:\\\\Documentos\\\\Gestion_Inventario\\\\ArchivosCVSOriginales\\\\EndInvFINAL12312016.csv')\n",
    "purchases = pd.read_csv('D:\\\\Documentos\\\\Gestion_Inventario\\\\ArchivosCVSOriginales\\\\PurchasesFINAL12312016.csv')\n",
    "purchase_prices = pd.read_csv('D:\\\\Documentos\\\\Gestion_Inventario\\\\ArchivosCVSOriginales\\\\2017PurchasePricesDec.csv')\n",
    "purchase_invoices = pd.read_csv('D:\\\\Documentos\\\\Gestion_Inventario\\\\ArchivosCVSOriginales\\\\InvoicePurchases12312016.csv')\n",
    "sales = pd.read_csv('D:\\\\Documentos\\\\Gestion_Inventario\\\\ArchivosCVSOriginales\\\\SalesFINAL12312016.csv')"
   ]
  },
  {
   "cell_type": "markdown",
   "id": "087ef382",
   "metadata": {
    "papermill": {
     "duration": 0.018549,
     "end_time": "2024-06-21T21:39:27.771092",
     "exception": false,
     "start_time": "2024-06-21T21:39:27.752543",
     "status": "completed"
    },
    "tags": []
   },
   "source": [
    "## `1.3 Análisis exploratorio de datos`\n",
    "\n",
    "Aquí realizamos un Análisis Exploratorio de Datos para todos nuestros conjuntos de datos. Desarrollamos una visión general que incluye detalles clave sobre los conjuntos de datos, tipos de datos, estructura y estadísticas resumidas. Esta vista integral ayudará a identificar errores, inconsistencias o patrones, facilitando la posterior limpieza y preprocesamiento de los datos."
   ]
  },
  {
   "cell_type": "code",
   "execution_count": null,
   "id": "81440d69",
   "metadata": {
    "execution": {
     "iopub.execute_input": "2024-06-21T21:39:27.809693Z",
     "iopub.status.busy": "2024-06-21T21:39:27.809312Z",
     "iopub.status.idle": "2024-06-21T21:39:34.292773Z",
     "shell.execute_reply": "2024-06-21T21:39:34.291680Z"
    },
    "papermill": {
     "duration": 6.505832,
     "end_time": "2024-06-21T21:39:34.295433",
     "exception": false,
     "start_time": "2024-06-21T21:39:27.789601",
     "status": "completed"
    },
    "tags": []
   },
   "outputs": [],
   "source": [
    "# Función para explorar las características del dataset\n",
    "def explore_dataset(dataframe):\n",
    "    summary = []\n",
    "    for column in dataframe.columns:\n",
    "        data_type = dataframe[column].dtype\n",
    "        total_count = len(dataframe[column])\n",
    "        unique_count = dataframe[column].nunique()\n",
    "        unique_sample = dataframe[column].unique()[0:10]\n",
    "        missing_values = dataframe[column].isnull().sum()\n",
    "        summary.append({'Column': column, 'Data Type': data_type, 'Total Count': total_count,\n",
    "                        'Unique Count': unique_count, 'Unique Sample': unique_sample, \n",
    "                        'Missing Values': missing_values})\n",
    "    return pd.DataFrame(summary)\n",
    "\n",
    "# Lista de conjuntos de datos y sus nombres\n",
    "datasets = [(\"Beginning Inventory\", beginning_inventory),\n",
    "            (\"Ending Inventory\", ending_inventory),\n",
    "            (\"Purchase\", purchases),\n",
    "            (\"Purchase Invoices\", purchase_invoices),\n",
    "            (\"Purchase Price\", purchase_prices),\n",
    "            (\"Sales\", sales)]\n",
    "\n",
    "# Explorar cada conjunto de datos y mostrar los detalles clave\n",
    "for index, (dataset_name, dataset) in enumerate(datasets, start=1):\n",
    "    print(f\"{index}. Explorar detalles clave de {dataset_name} dataset:\")\n",
    "    print(explore_dataset(dataset))\n",
    "    print(\"\\n\")\n"
   ]
  },
  {
   "cell_type": "markdown",
   "id": "cc585d84",
   "metadata": {
    "papermill": {
     "duration": 0.076797,
     "end_time": "2024-06-21T21:39:34.391578",
     "exception": false,
     "start_time": "2024-06-21T21:39:34.314781",
     "status": "completed"
    },
    "tags": []
   },
   "source": [
    "La exploración de datos ayuda a identificar irregularidades que necesitan limpieza y preprocesamiento:\n",
    "\n",
    "- El InventoryId en beginning_inventory y ending_inventory tiene recuentos únicos iguales a los recuentos totales. Esto sugiere que podrían servir como claves primarias y foráneas para unir las dos tablas. A pesar de tener atributos idénticos (excepto por las columnas de inventario), los ID pueden no coincidir. Otros conjuntos de datos carecen de una clave primaria específica, ya que el recuento total difiere del número de recuentos únicos. Por lo tanto, es necesario tener precaución al unir las tablas.\n",
    "- Algunas tablas contienen `valores faltantes` que necesitan ser identificados y manejados adecuadamente.\n",
    "- Las columnas de tamaño en todas las tablas muestran `inconsistencias` debido a diferentes unidades de medida. Ejemplos incluyen 750mL, Litro, 750mL + 2/,2 Pk, 50mL 4 Pk, 750mL 3 Pk. Estas necesitan ser convertidas a una única unidad de medida consistente.\n",
    "- `Size` and `Volume` estas columnas contienen datos duplicados y una de ellas puede ser eliminada..\n",
    "- El `formato de fecha` difiere entre las tablas. Por ejemplo, la tabla de ventas usa d/m/yyyy, mientras que otras usan yyyy/mm/dd.\n",
    "- Algunas columnas contienen espacios al principio y al final entre las entradas, como se observa en la columna VendorName de la tabla de compras (por ejemplo, ALTAMAR BRANDS LLC ,)."
   ]
  },
  {
   "cell_type": "markdown",
   "id": "3a3d210b",
   "metadata": {
    "papermill": {
     "duration": 0.018897,
     "end_time": "2024-06-21T21:39:34.429648",
     "exception": false,
     "start_time": "2024-06-21T21:39:34.410751",
     "status": "completed"
    },
    "tags": []
   },
   "source": [
    "## `1.4 Limpieza y preprocesamiento de datos`\n"
   ]
  },
  {
   "cell_type": "markdown",
   "id": "77b18ab1",
   "metadata": {
    "papermill": {
     "duration": 0.019514,
     "end_time": "2024-06-21T21:39:34.469365",
     "exception": false,
     "start_time": "2024-06-21T21:39:34.449851",
     "status": "completed"
    },
    "tags": []
   },
   "source": [
    "#### `a. Identificar el conjunto de datos y las columnas correspondientes con valores omitidos y duplicados`\n"
   ]
  },
  {
   "cell_type": "code",
   "execution_count": null,
   "id": "120fe289",
   "metadata": {
    "execution": {
     "iopub.execute_input": "2024-06-21T21:39:34.510541Z",
     "iopub.status.busy": "2024-06-21T21:39:34.510153Z",
     "iopub.status.idle": "2024-06-21T21:39:40.020589Z",
     "shell.execute_reply": "2024-06-21T21:39:40.019293Z"
    },
    "papermill": {
     "duration": 5.533575,
     "end_time": "2024-06-21T21:39:40.022975",
     "exception": false,
     "start_time": "2024-06-21T21:39:34.489400",
     "status": "completed"
    },
    "tags": []
   },
   "outputs": [],
   "source": [
    "# Función para identificar valores faltantes y duplicados en los conjuntos de datos\n",
    "def verificar_faltantes_y_duplicados(*datasets):\n",
    "    for nombre_conjunto, conjunto in datasets:\n",
    "        conteo_faltantes = {}\n",
    "        conteo_duplicados = {}\n",
    "        \n",
    "        # Verificar valores faltantes y duplicados\n",
    "        for nombre_columna in conjunto.columns:\n",
    "            faltantes = conjunto[nombre_columna].isnull().sum()\n",
    "            if faltantes > 0:\n",
    "                conteo_faltantes[nombre_columna] = faltantes\n",
    "        \n",
    "        duplicados = conjunto[conjunto.duplicated()]\n",
    "        conteo_duplicados[\"total\"] = len(duplicados)\n",
    "        \n",
    "        # Imprimir resumen\n",
    "        print(f\"Resumen de valores faltantes y duplicados para {nombre_conjunto}:\")\n",
    "        if len(conteo_faltantes) == 0:\n",
    "            print(\"No hay valores faltantes en este conjunto de datos.\")\n",
    "        else:\n",
    "            print(\"Valores Faltantes:\")\n",
    "            for nombre_columna, conteo in conteo_faltantes.items():\n",
    "                print(f\" - Columna: {nombre_columna}, Cantidad de Valores Faltantes: {conteo}\")\n",
    "        \n",
    "        if conteo_duplicados[\"total\"] == 0:\n",
    "            print(\"No hay duplicados en este conjunto de datos.\")\n",
    "        else:\n",
    "            print(\"Duplicados:\")\n",
    "            print(f\" - Total de duplicados: {conteo_duplicados['total']}\")\n",
    "        print()  # Añadir una línea en blanco entre los resúmenes de cada conjunto de datos\n",
    "\n",
    "# Verificar faltantes y duplicados en todos los conjuntos de datos\n",
    "verificar_faltantes_y_duplicados((\"Tabla de Inventario Inicial\", beginning_inventory),\n",
    "                                 (\"Tabla de Inventario Final\", ending_inventory),\n",
    "                                 (\"Tabla de Compras\", purchases),\n",
    "                                 (\"Tabla de Facturas de Compra\", purchase_invoices),\n",
    "                                 (\"Tabla de Precios de Compra\", purchase_prices),\n",
    "                                 (\"Tabla de Ventas\", sales))\n"
   ]
  },
  {
   "cell_type": "markdown",
   "id": "74e5a45e",
   "metadata": {
    "papermill": {
     "duration": 0.019346,
     "end_time": "2024-06-21T21:39:40.062696",
     "exception": false,
     "start_time": "2024-06-21T21:39:40.043350",
     "status": "completed"
    },
    "tags": []
   },
   "source": [
    "#### **`b. Manejo de Valores Faltantes`**\n",
    "\n",
    "Las tablas de inventario inicial y ventas no tienen valores faltantes, por lo que el enfoque estará en las otras cuatro tablas.\n",
    "\n",
    "`Manejo de Valores Faltantes en la Columna \"City\" del Inventario Final`: De un total de 224,489 entradas, hay 1,284 valores faltantes en la columna City. Al examinar los otros 66 nombres de ciudades únicos y sus ubicaciones de tiendas correspondientes, todas las ciudades están nombradas excepto la ciudad vinculada a la ubicación de la tienda 46. Por lo tanto, es razonable asignarle el nombre TYWARDREATH, que corresponde a su número de tienda.\n",
    "\n",
    "`Manejo de Valores Faltantes en la Columna \"Size\" de la Tabla de Compras`: Hay solo unos pocos valores faltantes de un total de 2,372,474 entradas. Podemos eliminar estas filas o llenarlas con los valores no faltantes subsiguientes. Optemos por lo último.\n",
    "\n",
    "`Manejo de Valores Faltantes en la Columna \"Approval\" de la Tabla de Facturas de Compra`: 5,169 de un total de 5,543 registros tienen valores faltantes, representando el 93% del total. Esto podría indicar que no están aprobados o están pendientes de aprobación. Dado el alto porcentaje de valores faltantes, esta columna puede no ser significativa y podría ser eliminada.\n",
    "\n",
    "`Manejo de Valores Faltantes en la Tabla de Precios de Compra`: Hay valores faltantes únicos en las columnas Description, Size y Volume. Eliminaremos la fila de la columna Description con el valor faltante debido a la casi idéntica cantidad de entradas únicas y totales, no podemos interpolar, y usar otros métodos de llenado. También eliminaremos la columna Volume, ya que simplemente duplica la columna Size. Los valores faltantes en la columna Size pueden manejarse usando 'ffill', asumiendo que los artículos del mismo tamaño se venden simultáneamente. Sin embargo, como los valores faltantes en las columnas size y description aparecen en la misma fila, eliminar la fila con la descripción faltante manejará automáticamente el valor faltante en la columna size.\n",
    "\n",
    "Necesitamos confirmación --> ejecuta el siguiente código:\n",
    "\n",
    "```py\n",
    "Missing_Values_rows = purchase_prices[purchase_prices.isnull().any(axis=1)]\n",
    "print(\"rows with missing value in Purchase table:\\\\\\\\n\", Missing_Values_rows)\n",
    "```\n",
    "\n",
    "La columna Size en la Tabla de Precios de Compra también tiene cuatro entradas con valores desconocidos. Por lo tanto, eliminaremos esas filas.\n",
    "\n",
    "`Antes de preprocesar el DataFrame, necesitamos hacer una copia del DataFrame para referencia`: La limpieza y manipulación de datos se realizará en el marco de datos copiado..\n",
    "\n",
    "```\n",
    "\n",
    "```\n"
   ]
  },
  {
   "cell_type": "code",
   "execution_count": null,
   "id": "9f986ec0",
   "metadata": {
    "execution": {
     "iopub.execute_input": "2024-06-21T21:39:40.104074Z",
     "iopub.status.busy": "2024-06-21T21:39:40.102993Z",
     "iopub.status.idle": "2024-06-21T21:39:42.116648Z",
     "shell.execute_reply": "2024-06-21T21:39:42.115536Z"
    },
    "papermill": {
     "duration": 2.036908,
     "end_time": "2024-06-21T21:39:42.119109",
     "exception": false,
     "start_time": "2024-06-21T21:39:40.082201",
     "status": "completed"
    },
    "tags": []
   },
   "outputs": [],
   "source": [
    "# Crear una copia de los DataFrames originales para referencia y acortar el nombre del DataFrame para simplicidad\n",
    "beg_inv_f = beginning_inventory.copy() \n",
    "end_inv_f = ending_inventory.copy()\n",
    "purchases_f = purchases.copy()\n",
    "purch_invo_f = purchase_invoices.copy()\n",
    "purch_pric_f = purchase_prices.copy()\n",
    "sales_f = sales.copy()\n",
    "\n",
    "# Manejo de valores faltantes en la columna \"City\" del Inventario Final\n",
    "end_inv_f[\"City\"] = end_inv_f[\"City\"].fillna(\"TYWARDREATH\")\n",
    "\n",
    "# Manejo de valores faltantes en la columna \"Size\" de la tabla de Compras\n",
    "purchases_f[\"Size\"] = purchases_f[\"Size\"].ffill()\n",
    "\n",
    "# Manejo de valores faltantes en la columna \"Approval\" de la tabla de Facturas de Compra\n",
    "purch_invo_f = purch_invo_f.drop(['Approval'], axis=1)\n",
    "\n",
    "# Manejo de valores faltantes en la tabla de Precios de Compra\n",
    "purch_pric_f.dropna(subset=[\"Description\"], inplace=True)\n",
    "purch_pric_f = purch_pric_f[purch_pric_f[\"Size\"] != \"Unknown\"]\n",
    "\n",
    "# Manejo de columna redundante en la tabla de Precios de Compra y Ventas --> \"Size\" y \"Volume\"\n",
    "purch_pric_f = purch_pric_f.drop([\"Volume\"], axis=1)\n",
    "sales_f = sales_f.drop([\"Volume\"], axis=1)\n",
    "\n",
    "print(\"\\n Resumen de valores faltantes\")  # línea nueva entre las salidas\n",
    "\n",
    "# Obtener un resumen de valores faltantes para cada tabla\n",
    "def verificar_valores_faltantes(*datasets):\n",
    "    for nombre_conjunto, conjunto in datasets:\n",
    "        conteo_valores_faltantes = {}\n",
    "        for idx, nombre_columna in enumerate(conjunto.columns):\n",
    "            conteo_faltantes = conjunto[nombre_columna].isnull().sum()\n",
    "            if conteo_faltantes > 0:\n",
    "                conteo_valores_faltantes[nombre_columna] = conteo_faltantes\n",
    "        \n",
    "        if len(conteo_valores_faltantes) == 0:\n",
    "            print(f\"Cantidad de valores faltantes en {nombre_conjunto} = {len(conteo_valores_faltantes)}\")\n",
    "        else:\n",
    "            for nombre_columna, conteo in conteo_valores_faltantes.items():\n",
    "                print(f\"Columna: {nombre_columna}, Cantidad de Valores Faltantes: {conteo}\")\n",
    "\n",
    "verificar_valores_faltantes((\"Beginning Inventory Final\", beg_inv_f),\n",
    "                            (\"Ending Inventory Final\", end_inv_f),\n",
    "                            (\"Purchases Table\", purchases_f),\n",
    "                            (\"Purchases Invoice Table\", purch_invo_f),\n",
    "                            (\"Purchase Price Table\", purch_pric_f),\n",
    "                            (\"Sales Table\", sales_f))\n"
   ]
  },
  {
   "cell_type": "markdown",
   "id": "00a70760",
   "metadata": {
    "papermill": {
     "duration": 0.019443,
     "end_time": "2024-06-21T21:39:42.158162",
     "exception": false,
     "start_time": "2024-06-21T21:39:42.138719",
     "status": "completed"
    },
    "tags": []
   },
   "source": [
    "#### **`c. Gestión de duplicidades`**\n",
    "\n",
    "No tenemos filas duplicadas en ninguno de los conjuntos de datos según el resumen de la salida anterior.\n"
   ]
  },
  {
   "cell_type": "markdown",
   "id": "434e86f0",
   "metadata": {
    "papermill": {
     "duration": 0.019896,
     "end_time": "2024-06-21T21:39:42.198130",
     "exception": false,
     "start_time": "2024-06-21T21:39:42.178234",
     "status": "completed"
    },
    "tags": []
   },
   "source": [
    "#### `d. Tratamiento de las irregularidades en la entradas de datos.`\n"
   ]
  },
  {
   "cell_type": "markdown",
   "id": "46475ba5",
   "metadata": {
    "papermill": {
     "duration": 0.019828,
     "end_time": "2024-06-21T21:39:42.237836",
     "exception": false,
     "start_time": "2024-06-21T21:39:42.218008",
     "status": "completed"
    },
    "tags": []
   },
   "source": [
    "`Manejo de Irregularidades en la Entrada de Tamaño`: La unidad de medida para la columna de tamaño en todos los conjuntos de datos (cinco en total) varía, excepto en el conjunto de datos de purchase_price (precios de compra). La información de tamaño que representa el volumen, se introduce en varios formatos, incluidos litros, mililitros, onzas, paquetes (pk) y combinaciones de estos. Por lo tanto, necesitamos convertir estas medidas a un estándar unificado: litros. Revisaremos los conteos únicos. Para aquellos con solo un conteo y sin un patrón, asignaremos una tasa equivalente. Para otros con múltiples conteos y un patrón, convertiremos según los patrones.\n"
   ]
  },
  {
   "cell_type": "code",
   "execution_count": null,
   "id": "d5734373",
   "metadata": {
    "execution": {
     "iopub.execute_input": "2024-06-21T21:39:42.280430Z",
     "iopub.status.busy": "2024-06-21T21:39:42.280060Z",
     "iopub.status.idle": "2024-06-21T21:40:04.305443Z",
     "shell.execute_reply": "2024-06-21T21:40:04.304061Z"
    },
    "papermill": {
     "duration": 22.049197,
     "end_time": "2024-06-21T21:40:04.308262",
     "exception": false,
     "start_time": "2024-06-21T21:39:42.259065",
     "status": "completed"
    },
    "tags": []
   },
   "outputs": [],
   "source": [
    "# Obtener un recuento único de cada entrada de tamaño en todos los conjuntos de datos y observar el patrón.\n",
    "data_frames = [beg_inv_f, end_inv_f, purchases_f, purch_pric_f, sales_f]\n",
    "all_sizes = pd.concat([df[\"Size\"] for df in data_frames])\n",
    "\n",
    "# Obtener los tamaños únicos y contar las ocurrencias de cada tamaño\n",
    "unique_sizes = all_sizes.unique()\n",
    "size_counts = {size: all_sizes[all_sizes == size].count() for size in unique_sizes}\n",
    "\n",
    "# Crear un DataFrame con los tamaños únicos y su recuento total\n",
    "unique_sizes_with_counts = pd.DataFrame({\n",
    "    'Tamaño': unique_sizes,\n",
    "    'Recuento Total': [size_counts[size] for size in unique_sizes]\n",
    "})\n",
    "\n",
    "# Imprimir el DataFrame resultante\n",
    "print(unique_sizes_with_counts)\n"
   ]
  },
  {
   "cell_type": "markdown",
   "id": "f277d70a",
   "metadata": {
    "papermill": {
     "duration": 0.022307,
     "end_time": "2024-06-21T21:40:04.354332",
     "exception": false,
     "start_time": "2024-06-21T21:40:04.332025",
     "status": "completed"
    },
    "tags": []
   },
   "source": [
    "A partir del resultado de los conteos, podemos observar que hay 75 formas diferentes de expresar las medidas de tamaño (volumen).\n",
    "\n",
    "- Hay tres conteos únicos con solo un conteo cada uno: 3/100ml, 5/2 y galones. Reemplazaremos estos con tasas de conversión equivalentes.\n",
    "- Otros conteos únicos muestran patrones. Podemos usar expresiones regulares para iterar a través de ellos y aplicar tasas de conversión. Estos se pueden agrupar en tres patrones:\n",
    "  - Ejemplos incluyen 750ml, 750mL, 750ml + 3/, 750 4p, 750 4pk, etc.\n",
    "  - Patrones como Litro, L, o l\n",
    "  - Tamaños expresados en onzas.\n",
    "\n",
    "Crearemos una función para aplicar estas conversiones a todos los conjuntos de datos.\n"
   ]
  },
  {
   "cell_type": "code",
   "execution_count": null,
   "id": "057071bb",
   "metadata": {
    "execution": {
     "iopub.execute_input": "2024-06-21T21:40:04.400190Z",
     "iopub.status.busy": "2024-06-21T21:40:04.399338Z",
     "iopub.status.idle": "2024-06-21T21:40:14.252257Z",
     "shell.execute_reply": "2024-06-21T21:40:14.251163Z"
    },
    "papermill": {
     "duration": 9.878838,
     "end_time": "2024-06-21T21:40:14.255084",
     "exception": false,
     "start_time": "2024-06-21T21:40:04.376246",
     "status": "completed"
    },
    "tags": []
   },
   "outputs": [],
   "source": [
    "import pandas as pd\n",
    "import re\n",
    "\n",
    "# Función para convertir diferentes formatos de tamaño a litros\n",
    "def convertir_a_litros(size):\n",
    "    size = str(size).lower()\n",
    "    # Convertir 3/100ml y 5/2 oz\n",
    "    if \"3/100ml\" in size: \n",
    "        return round(3 * 0.01, 2)  # 3/100ml --> 3 paquetes de 100ml \n",
    "    elif '5/2 oz' in size: \n",
    "        return round(10 * 0.0295735, 2)  # 5/2 oz --> 5 paquetes de 1/2 oz cada uno\n",
    "    \n",
    "    # Convertir galones a litros\n",
    "    elif 'gal' in size:\n",
    "        gal_value = float(re.search(r'\\d+\\.*\\d*', size).group())\n",
    "        return round(gal_value * 3.786, 2)   \n",
    "    \n",
    "    # Manejar patrones como 750ml, 750mL, 750ml + 3/, 750 4p, 750 4pk, etc.\n",
    "    elif 'ml' in size:\n",
    "        if 'p' in size:\n",
    "            ml_value, pack_value = re.search(r'(\\d+\\.*\\d*)\\s*m*l*\\s*(\\d*)\\s*p*/*P*k*/*', size).groups()\n",
    "            ml_value = float(ml_value)\n",
    "            pack_value = float(pack_value) if pack_value else 1\n",
    "            return round(ml_value * pack_value / 1000, 2)  # p o pk significa paquete--> multiplicar\n",
    "        elif '+' in size:\n",
    "            ml_value, pack_value = map(float, re.findall(r'\\d+\\.*\\d*', size))\n",
    "            return round((ml_value + (pack_value * 50)) / 1000, 2)  \n",
    "        else:\n",
    "            ml_value = float(re.search(r'\\d+\\.*\\d*', size).group())\n",
    "            return round(ml_value / 1000, 2)  \n",
    "    \n",
    "    # Convertir Litros o L o l\n",
    "    elif 'liter' in size or 'l' in size:\n",
    "        if size == 'liter' or size == 'l': \n",
    "            return 1.00\n",
    "        else:\n",
    "            liter_value = float(re.search(r'\\d+\\.*\\d*', size).group())\n",
    "            return round(liter_value, 2)  \n",
    "    \n",
    "    # Convertir onzas a litros    \n",
    "    elif 'oz' in size:\n",
    "        oz_value = float(re.search(r'\\d+\\.*\\d*', size).group())\n",
    "        return round(oz_value * 0.0295735, 2) \n",
    "    else:\n",
    "        return None\n",
    "\n",
    "# Lista de DataFrames para aplicar la conversión\n",
    "data_frames = [beg_inv_f, end_inv_f, purchases_f, purch_pric_f, sales_f]\n",
    "\n",
    "# Aplicar la función de conversión a cada DataFrame\n",
    "for i, dataset in enumerate(data_frames):\n",
    "    dataset['Size'] = dataset['Size'].apply(convertir_a_litros)\n",
    "    data_frames[i] = dataset\n",
    "\n",
    "# Imprimir los DataFrames convertidos\n",
    "for i, dataset in enumerate(data_frames):\n",
    "    print(f\"DataFrame {i+1}:\")\n",
    "    print(dataset)\n",
    "    print()\n"
   ]
  },
  {
   "cell_type": "code",
   "execution_count": null,
   "id": "7425aa9c",
   "metadata": {
    "execution": {
     "iopub.execute_input": "2024-06-21T21:40:14.297659Z",
     "iopub.status.busy": "2024-06-21T21:40:14.297266Z",
     "iopub.status.idle": "2024-06-21T21:40:16.306807Z",
     "shell.execute_reply": "2024-06-21T21:40:16.305605Z"
    },
    "papermill": {
     "duration": 2.034106,
     "end_time": "2024-06-21T21:40:16.309454",
     "exception": false,
     "start_time": "2024-06-21T21:40:14.275348",
     "status": "completed"
    },
    "tags": []
   },
   "outputs": [],
   "source": [
    "# Función para eliminar espacios al principio y al final en las columnas especificadas\n",
    "def eliminar_espacios(df, *columnas):\n",
    "    for col in columnas:\n",
    "        df[col] = df[col].str.strip()\n",
    "    return df\n",
    "\n",
    "# Aplicar la función a los DataFrames correspondientes\n",
    "beg_inv_f = eliminar_espacios(beg_inv_f, \"City\", \"Description\")\n",
    "end_inv_f = eliminar_espacios(end_inv_f, \"City\", \"Description\")\n",
    "purchases_f = eliminar_espacios(purchases_f, \"Description\", \"VendorName\")\n",
    "purch_invo_f = eliminar_espacios(purch_invo_f, \"VendorName\")\n",
    "purch_pric_f = eliminar_espacios(purch_pric_f, \"Description\", \"VendorName\")\n",
    "sales_f = eliminar_espacios(sales_f, \"Description\", \"VendorName\")\n",
    "\n",
    "# Renombrar 'VendorNo' a 'VendorNumber' en el conjunto de datos de ventas para mantener la uniformidad\n",
    "sales_f.rename(columns={'VendorNo': 'VendorNumber'}, inplace=True)\n",
    "\n",
    "# Imprimir una muestra de cada DataFrame para verificar los cambios\n",
    "print(\"Muestra de Beginning Inventory Final:\")\n",
    "print(beg_inv_f.head())\n",
    "print(\"\\nMuestra de Ending Inventory Final:\")\n",
    "print(end_inv_f.head())\n",
    "print(\"\\nMuestra de Purchases Table:\")\n",
    "print(purchases_f.head())\n",
    "print(\"\\nMuestra de Purchases Invoice Table:\")\n",
    "print(purch_invo_f.head())\n",
    "print(\"\\nMuestra de Purchase Price Table:\")\n",
    "print(purch_pric_f.head())\n",
    "print(\"\\nMuestra de Sales Table:\")\n",
    "print(sales_f.head())\n"
   ]
  },
  {
   "cell_type": "markdown",
   "id": "31d140db",
   "metadata": {
    "papermill": {
     "duration": 0.020619,
     "end_time": "2024-06-21T21:40:16.350732",
     "exception": false,
     "start_time": "2024-06-21T21:40:16.330113",
     "status": "completed"
    },
    "tags": []
   },
   "source": [
    "`Estandarizar el formato de tiempo de la columna especificada en un DataFrame:` Las columnas de fecha en los conjuntos de datos de Inventario Inicial y Final ya están en formato de fecha, por lo que no necesitamos formatearlas.\n"
   ]
  },
  {
   "cell_type": "code",
   "execution_count": null,
   "id": "21068d31",
   "metadata": {
    "execution": {
     "iopub.execute_input": "2024-06-21T21:40:16.394280Z",
     "iopub.status.busy": "2024-06-21T21:40:16.393912Z",
     "iopub.status.idle": "2024-06-21T21:40:17.856930Z",
     "shell.execute_reply": "2024-06-21T21:40:17.855799Z"
    },
    "papermill": {
     "duration": 1.488479,
     "end_time": "2024-06-21T21:40:17.859474",
     "exception": false,
     "start_time": "2024-06-21T21:40:16.370995",
     "status": "completed"
    },
    "tags": []
   },
   "outputs": [],
   "source": [
    "# Función para estandarizar el formato de tiempo de las columnas especificadas en un DataFrame\n",
    "def formatear_tiempo(df, *columnas):\n",
    "    for col in columnas:\n",
    "        df[col] = pd.to_datetime(df[col])\n",
    "    return df\n",
    "\n",
    "# Aplicar la función a los DataFrames correspondientes\n",
    "purchases_f = formatear_tiempo(purchases_f, \"PODate\", \"ReceivingDate\", \"InvoiceDate\", \"PayDate\")\n",
    "purch_invo_f = formatear_tiempo(purch_invo_f, \"InvoiceDate\", \"PODate\", \"PayDate\")\n",
    "sales_f = formatear_tiempo(sales_f, \"SalesDate\")\n",
    "\n",
    "# Imprimir una muestra de cada DataFrame para verificar los cambios\n",
    "print(\"Muestra de Purchases Table:\")\n",
    "print(purchases_f.head())\n",
    "print(\"\\nMuestra de Purchases Invoice Table:\")\n",
    "print(purch_invo_f.head())\n",
    "print(\"\\nMuestra de Sales Table:\")\n",
    "print(sales_f.head())\n"
   ]
  },
  {
   "cell_type": "markdown",
   "id": "8314ded1",
   "metadata": {
    "papermill": {
     "duration": 0.019764,
     "end_time": "2024-06-21T21:40:17.899546",
     "exception": false,
     "start_time": "2024-06-21T21:40:17.879782",
     "status": "completed"
    },
    "tags": []
   },
   "source": [
    "# **`Part II: Análisis y optimización de inventarios`**"
   ]
  },
  {
   "cell_type": "markdown",
   "id": "59e5c316",
   "metadata": {
    "papermill": {
     "duration": 0.019839,
     "end_time": "2024-06-21T21:40:17.939719",
     "exception": false,
     "start_time": "2024-06-21T21:40:17.919880",
     "status": "completed"
    },
    "tags": []
   },
   "source": [
    "En esta sección, analizaremos los parámetros fundamentales de la gestión de inventarios y extraeremos información adicional de los datos.\n",
    "\n",
    "`Análisis de los Principales Parámetros de Gestión de Inventarios`\n",
    "\n",
    "- **Tiempo de Entrega (LT)**\n",
    "- **Stock de Seguridad (SS)**\n",
    "- **Punto de Reorden (RoP)**\n",
    "- **Análisis ABC**\n",
    "\n",
    "El análisis ABC es una técnica de gestión de inventarios que se utiliza para categorizar los productos en función de su importancia relativa, generalmente medida en términos de valor de ventas, consumo o impacto en el negocio. Esta técnica se basa en el principio de Pareto, que sugiere que un pequeño porcentaje de los productos (aproximadamente el 20%) suele representar una gran parte del valor total (aproximadamente el 80%). Aquí están las tres categorías principales del análisis ABC:\n",
    "\n",
    "1. Categoría A:\n",
    "- Productos de alta prioridad.\n",
    "\n",
    "2. Categoría B:\n",
    "- Productos de prioridad media.\n",
    "\n",
    "3. Categoría C:\n",
    "- Productos de baja prioridad.\n"
   ]
  },
  {
   "cell_type": "markdown",
   "id": "a6c049f3",
   "metadata": {
    "papermill": {
     "duration": 0.020278,
     "end_time": "2024-06-21T21:40:17.980881",
     "exception": false,
     "start_time": "2024-06-21T21:40:17.960603",
     "status": "completed"
    },
    "tags": []
   },
   "source": [
    "## `2.1 Análisis de los principales parámetros de gestión de inventarios`\n"
   ]
  },
  {
   "cell_type": "markdown",
   "id": "cd2e59e3",
   "metadata": {
    "papermill": {
     "duration": 0.019772,
     "end_time": "2024-06-21T21:40:18.020899",
     "exception": false,
     "start_time": "2024-06-21T21:40:18.001127",
     "status": "completed"
    },
    "tags": []
   },
   "source": [
    "#### 2.1.1 **`Plazos de entrega`**:\n",
    "\n",
    "Se refiere a la duración entre el momento en que un almacén hace un pedido a un proveedor y el momento en que se recibe la mercancía. Es una medida importante para mejorar la gestión de inventarios y los procesos de la cadena de suministro.\n",
    "\n",
    "- Fórmula para calcular el Tiempo de Entrega (Lead Time) en un contexto de gestión de inventarios.\n",
    "\n",
    "$$\n",
    "\\text{Lead\\_Time} = \\text{Purchase\\_Receiving\\_Date} - \\text{Purchase\\_Order\\_Date}\n",
    "$$\n",
    "\n"
   ]
  },
  {
   "cell_type": "code",
   "execution_count": null,
   "id": "0230c930",
   "metadata": {
    "execution": {
     "iopub.execute_input": "2024-06-21T21:40:18.064064Z",
     "iopub.status.busy": "2024-06-21T21:40:18.063685Z",
     "iopub.status.idle": "2024-06-21T21:40:19.795668Z",
     "shell.execute_reply": "2024-06-21T21:40:19.794555Z"
    },
    "papermill": {
     "duration": 1.758309,
     "end_time": "2024-06-21T21:40:19.799909",
     "exception": false,
     "start_time": "2024-06-21T21:40:18.041600",
     "status": "completed"
    },
    "tags": []
   },
   "outputs": [],
   "source": [
    "# Calcular el tiempo de entrega en días y agregarlo al conjunto de datos\n",
    "purchases_f['Lead_Time'] = (purchases_f['ReceivingDate'] - purchases_f['PODate']).dt.days\n",
    "\n",
    "# Agrupar por Marca y Descripción y calcular estadísticas resumidas del tiempo de entrega\n",
    "LT_summary = purchases_f.groupby(['Brand', 'Description']).agg(\n",
    "    Max_LT_inDays=('Lead_Time', 'max'), \n",
    "    Min_LT_inDays=('Lead_Time', 'min'), \n",
    "    Avg_LT_inDays=('Lead_Time', 'mean')).round(2).reset_index()\n",
    "\n",
    "# Graficar la distribución de los tiempos de entrega promedio y máximo\n",
    "fig, axes = plt.subplots(1, 2, figsize=(14, 5))  # Ajustar tamaño de la figura\n",
    "fig.suptitle(\"Distribución del Tiempo de Entrega\", color='tomato', weight='bold', fontsize=14)\n",
    "\n",
    "# Histograma del tiempo de entrega promedio\n",
    "axes[0].hist(LT_summary[\"Avg_LT_inDays\"], bins=20, density=False, edgecolor=\"k\", label=\"Tiempo de Entrega Promedio\")\n",
    "axes[0].set_xlabel(\"Tiempo de Entrega Promedio (Días)\")\n",
    "axes[0].set_ylabel(\"Frecuencia\")\n",
    "axes[0].legend()\n",
    "\n",
    "# Histograma del tiempo de entrega máximo y mínimo\n",
    "axes[1].hist(LT_summary[\"Max_LT_inDays\"], bins=20, density=False, edgecolor=\"k\", alpha=0.5, label=\"Tiempo de Entrega Máximo\")\n",
    "axes[1].hist(LT_summary[\"Min_LT_inDays\"], bins=20, density=False, edgecolor=\"k\", alpha=0.5, label=\"Tiempo de Entrega Mínimo\")\n",
    "axes[1].set_xlabel(\"Tiempos de Entrega Máximos y Mínimos (Días)\")\n",
    "axes[1].legend()\n",
    "\n",
    "fig.tight_layout(rect=[0, 0, 1, 0.95])  # Ajustar diseño para que el título no se superponga\n",
    "plt.show()\n"
   ]
  },
  {
   "cell_type": "markdown",
   "id": "2b8bf9b6",
   "metadata": {
    "papermill": {
     "duration": 0.023717,
     "end_time": "2024-06-21T21:40:19.847821",
     "exception": false,
     "start_time": "2024-06-21T21:40:19.824104",
     "status": "completed"
    },
    "tags": []
   },
   "source": [
    "El histograma ilustra la distribución de los tiempos de entrega promedio para los productos. La mayoría de los productos tienen un tiempo de entrega promedio de aproximadamente 7 a 8 días, como se muestra en la distribución normal. Por lo tanto, la mayoría de los proveedores entregan los productos dentro de una semana. Sin embargo, algunos artículos tienen tiempos de entrega más cortos, de aproximadamente uno a tres días, mientras que otros tienen tiempos de entrega más largos, de aproximadamente dos semanas. La distribución del tiempo de entrega máximo confirma que el tiempo de entrega máximo promedio es de 12 días. La distribución del tiempo de entrega mínimo está sesgada hacia la izquierda, siendo dos días el más común.\n"
   ]
  },
  {
   "cell_type": "markdown",
   "id": "aa88ebc2",
   "metadata": {
    "papermill": {
     "duration": 0.024117,
     "end_time": "2024-06-21T21:40:19.896219",
     "exception": false,
     "start_time": "2024-06-21T21:40:19.872102",
     "status": "completed"
    },
    "tags": []
   },
   "source": [
    "#### 2.1.2 **`Stock de seguridad e inventario`**\n",
    "\n",
    "`Stock de seguridad(ss)` mide la cantidad de existencias de reserva que es necesario almacenar en las instalaciones. determinaremos las existencias de seguridad óptimas en función de la cantidad de ventas y de la cantidad de existencias de seguridad necesarias para realizar las ventas sin problemas.\n",
    "\\begin{equation}\n",
    "\\text{Optimizal Safety Stock} = (maximum_lead_time - average lead time) \\times average_daily_sales_of_the_product.\n",
    "\\end{equation}\n",
    "\n",
    "\\begin{equation}\n",
    "\\text{Maximum Safety Stock}= (Maximum_daily_sales \\times maximum_lead_time) – (average_daily_sales \\times average_lead_time_days\n",
    "\\end{equation}\n"
   ]
  },
  {
   "cell_type": "code",
   "execution_count": null,
   "id": "5b733cce",
   "metadata": {
    "execution": {
     "iopub.execute_input": "2024-06-21T21:40:19.948043Z",
     "iopub.status.busy": "2024-06-21T21:40:19.947660Z",
     "iopub.status.idle": "2024-06-21T21:40:21.218134Z",
     "shell.execute_reply": "2024-06-21T21:40:21.216990Z"
    },
    "papermill": {
     "duration": 1.301848,
     "end_time": "2024-06-21T21:40:21.222325",
     "exception": false,
     "start_time": "2024-06-21T21:40:19.920477",
     "status": "completed"
    },
    "tags": []
   },
   "outputs": [],
   "source": [
    "# Preparar datos resumidos de ventas\n",
    "sales_f_summary = sales_f.groupby(['Brand', 'Description']).agg(\n",
    "                        Max_Sales_Qty=(\"SalesQuantity\", 'max'),\n",
    "                        Min_Sales_Qty=(\"SalesQuantity\", 'min'),\n",
    "                        Tot_SalesQty=('SalesQuantity', 'sum')).reset_index()\n",
    "\n",
    "# Calcular las ventas por día para cada producto agrupado por marca\n",
    "total_sales_days = (sales_f['SalesDate'].max() - sales_f['SalesDate'].min()).days\n",
    "sales_f_summary['Avg_Sales/Day'] = (sales_f_summary['Tot_SalesQty'] / total_sales_days).round(2)\n",
    "\n",
    "# Unir los datos de tiempo de entrega y ventas para calcular el stock de seguridad\n",
    "ss_data = pd.merge(sales_f_summary, LT_summary, on = [\"Brand\", \"Description\"])\n",
    "\n",
    "# Calcular el stock de seguridad óptimo y máximo, redondeando al siguiente número entero\n",
    "ss_data[\"Optimal_SS\"] = np.ceil((ss_data[\"Max_LT_inDays\"] - ss_data[\"Avg_LT_inDays\"]) * \n",
    "                                ss_data[\"Avg_Sales/Day\"]).round(0)\n",
    "\n",
    "ss_data[\"Max_SS\"] = np.ceil((ss_data[\"Max_LT_inDays\"] - ss_data[\"Avg_LT_inDays\"]) * \n",
    "                            ss_data[\"Avg_Sales/Day\"]).round(0)\n",
    "\n",
    "# Resumen de datos de stock de seguridad seleccionados de sales_f_summary y LT_summary\n",
    "ss_data_summary = ss_data[[\"Brand\", \"Description\", \"Max_Sales_Qty\", \"Tot_SalesQty\", \"Avg_Sales/Day\", \n",
    "                           \"Max_LT_inDays\", \"Avg_LT_inDays\", \"Optimal_SS\", \"Max_SS\"]]\n",
    "\n",
    "# Imprimir una muestra aleatoria del resumen de stock de seguridad\n",
    "print(\"Resumen del stock de seguridad - Muestra aleatoria: \\n\", ss_data_summary.sample(5, random_state=random.seed()))\n",
    "\n",
    "# Graficar la distribución del stock de seguridad óptimo y compararlo con las ventas diarias promedio\n",
    "fig, axes = plt.subplots(1, 2, figsize=(12, 3), sharey=True)\n",
    "fig.suptitle(\"Distribución del Stock de Seguridad\", color='tomato', weight='bold', fontsize=14)\n",
    "\n",
    "# Histograma del stock de seguridad óptimo\n",
    "axes[0].hist(ss_data_summary[\"Optimal_SS\"], bins=20, density=False, edgecolor='k', label=\"Stock de Seguridad Óptimo\")\n",
    "axes[0].set_xlabel(\"Stock de Seguridad Óptimo\")\n",
    "axes[0].set_ylabel(\"Frecuencia\")\n",
    "axes[0].legend()\n",
    "\n",
    "# Histograma de las ventas diarias promedio\n",
    "axes[1].hist(ss_data_summary[\"Avg_Sales/Day\"], bins=20, density=False, color=\"tab:blue\", edgecolor='k', label=\"Ventas Diarias Promedio\")\n",
    "axes[1].set_xlabel(\"Ventas Diarias Promedio\")\n",
    "axes[1].legend()\n",
    "\n",
    "plt.tight_layout()\n",
    "plt.show()\n",
    "\n"
   ]
  },
  {
   "cell_type": "markdown",
   "id": "dbdfe475",
   "metadata": {
    "papermill": {
     "duration": 0.029053,
     "end_time": "2024-06-21T21:40:21.280028",
     "exception": false,
     "start_time": "2024-06-21T21:40:21.250975",
     "status": "completed"
    },
    "tags": []
   },
   "source": [
    "Este histograma muestra el recuento del stock de seguridad requerido para cada marca junto con sus ventas diarias promedio. Sin embargo, debido a que los datos están muy sesgados hacia la izquierda, la distribución de los puntos de datos en el lado derecho no es claramente visible. Para resolver esto, utilizamos un diagrama de caja (boxplot).\n"
   ]
  },
  {
   "cell_type": "code",
   "execution_count": null,
   "id": "9668a0d8",
   "metadata": {
    "execution": {
     "iopub.execute_input": "2024-06-21T21:40:21.339531Z",
     "iopub.status.busy": "2024-06-21T21:40:21.339141Z",
     "iopub.status.idle": "2024-06-21T21:40:21.585345Z",
     "shell.execute_reply": "2024-06-21T21:40:21.584265Z"
    },
    "papermill": {
     "duration": 0.280514,
     "end_time": "2024-06-21T21:40:21.589202",
     "exception": false,
     "start_time": "2024-06-21T21:40:21.308688",
     "status": "completed"
    },
    "tags": []
   },
   "outputs": [],
   "source": [
    "# Crear una figura y ejes para el gráfico\n",
    "fig, ax = plt.subplots(figsize=(15, 5))  # Ajuste de tamaño de la figura para mejor visualización\n",
    "\n",
    "# Crear el diagrama de caja para la distribución del stock de seguridad óptimo\n",
    "ax.boxplot(ss_data_summary['Optimal_SS'], \n",
    "           vert=False, \n",
    "           boxprops=dict(color='tab:orange', linewidth=2),  # Aumentar el grosor de las líneas de la caja\n",
    "           flierprops=dict(markeredgecolor='tab:gray', marker='o', markersize=5, alpha=0.7),  # Ajuste de los puntos atípicos\n",
    "           medianprops=dict(color='tab:red', linewidth=2),  # Propiedades de la mediana\n",
    "           whiskerprops=dict(color='tab:blue', linewidth=2),  # Propiedades de los bigotes\n",
    "           capprops=dict(color='tab:green', linewidth=2))  # Propiedades de las líneas de límite\n",
    "\n",
    "# Ajuste de las etiquetas de los ejes y el título del gráfico\n",
    "ax.set_xticks(range(0, int(ss_data_summary[\"Optimal_SS\"].max()) + 1, 50))  # Ajuste de los intervalos de las etiquetas del eje X\n",
    "ax.set_title('Distribución del Stock de Seguridad Óptimo', fontsize=16, color='tomato', weight='bold')\n",
    "ax.set_xlabel('Stock de Seguridad Óptimo', fontsize=12)\n",
    "ax.set_ylabel('Distribución', fontsize=12)\n",
    "\n",
    "# Añadir rejilla para mejorar la lectura del gráfico\n",
    "ax.grid(True, linestyle='--', alpha=0.7)\n",
    "\n",
    "# Mostrar el gráfico\n",
    "plt.show()\n"
   ]
  },
  {
   "cell_type": "markdown",
   "id": "94a557af",
   "metadata": {
    "papermill": {
     "duration": 0.031069,
     "end_time": "2024-06-21T21:40:21.651858",
     "exception": false,
     "start_time": "2024-06-21T21:40:21.620789",
     "status": "completed"
    },
    "tags": []
   },
   "source": [
    "La mayoría de los productos requieren un stock de seguridad entre cero y 50. Sin embargo, el diagrama de caja muestra que algunos productos necesitan hasta 3500 en stock de seguridad. La empresa debería mantener el stock de seguridad requerido para asegurar ventas fluidas y prevenir la escasez de inventario. Los productos con mayor stock de seguridad deberían ser, idealmente, aquellos con el mayor volumen de ventas o con tiempos de entrega más largos. Exploraremos esto más adelante."
   ]
  },
  {
   "cell_type": "markdown",
   "id": "5fa82013",
   "metadata": {
    "papermill": {
     "duration": 0.031387,
     "end_time": "2024-06-21T21:40:21.714987",
     "exception": false,
     "start_time": "2024-06-21T21:40:21.683600",
     "status": "completed"
    },
    "tags": []
   },
   "source": [
    "**`Evaluar el inventario disponible`**: Consideraremos el último nivel de inventario final como inventario disponible y evaluaremos las existencias de seguridad en consecuencia..\n"
   ]
  },
  {
   "cell_type": "code",
   "execution_count": null,
   "id": "d641e179",
   "metadata": {
    "execution": {
     "iopub.execute_input": "2024-06-21T21:40:21.780441Z",
     "iopub.status.busy": "2024-06-21T21:40:21.780054Z",
     "iopub.status.idle": "2024-06-21T21:40:22.258933Z",
     "shell.execute_reply": "2024-06-21T21:40:22.257756Z"
    },
    "papermill": {
     "duration": 0.516449,
     "end_time": "2024-06-21T21:40:22.263266",
     "exception": false,
     "start_time": "2024-06-21T21:40:21.746817",
     "status": "completed"
    },
    "tags": []
   },
   "outputs": [],
   "source": [
    "# Último inventario disponible para cada marca\n",
    "latest_onhand_inv = end_inv_f[end_inv_f['endDate'] == end_inv_f['endDate'].max()] \\\n",
    "                    .groupby(['Brand', 'Description']).agg(Onhand_Stock=('onHand', 'sum')).reset_index()\n",
    "\n",
    "# Fusionar los niveles de stock actuales con los datos de stock de seguridad previamente calculados,\n",
    "# rellenando valores NaN con 0 y seleccionando columnas específicas.\n",
    "onhand_inv_data = ss_data.merge(latest_onhand_inv, on=['Brand', 'Description'], how='left').fillna({'Onhand_Stock': 0})\n",
    "onhand_inv_data = onhand_inv_data[[\"Brand\", \"Description\", \"Optimal_SS\", \"Max_SS\", \"Onhand_Stock\"]]\n",
    "\n",
    "# Determinar el estado del inventario de cada producto, categorizándolos como escasez, balance o excedente\n",
    "onhand_inv_data['Inventory_Status'] = onhand_inv_data['Onhand_Stock'] - onhand_inv_data['Optimal_SS']\n",
    "\n",
    "onhand_inv_data['Inv_Shortage/Surplus'] = np.where(onhand_inv_data['Inventory_Status'] < 0, 'Inv_Shortage',\n",
    "                                          np.where(onhand_inv_data['Inventory_Status'] == 0, 'Balance', 'Inv_Surplus'))\n",
    "\n",
    "inv_status = onhand_inv_data.set_index('Brand')  # abreviar los datos de inventario disponible como inv_status\n",
    "print(\"Muestra aleatoria de 5 filas de inv_status: \\n\", inv_status.sample(n=5, random_state=random.seed()))\n",
    "\n",
    "# Distribución del estado del inventario\n",
    "fig, ax = plt.subplots(figsize=(11, 4))\n",
    "sns.boxplot(data=inv_status, x=\"Inv_Shortage/Surplus\", y=\"Inventory_Status\", ax=ax)\n",
    "ax.set_xlabel(\"Estado del Inventario\")\n",
    "ax.set_ylabel(\"Inventario\")\n",
    "ax.set_title(\"Distribución del Estado del Inventario\")\n",
    "\n",
    "# Imprimir el conteo en el gráfico\n",
    "for i, (label, count) in enumerate(inv_status['Inv_Shortage/Surplus'].value_counts().items()):\n",
    "    ax.text(i, count, str(count), ha='center', va='bottom', fontsize=12, color='black')\n",
    "\n",
    "plt.tight_layout()\n",
    "plt.show()\n"
   ]
  },
  {
   "cell_type": "markdown",
   "id": "8390c78f",
   "metadata": {
    "papermill": {
     "duration": 0.034096,
     "end_time": "2024-06-21T21:40:22.331761",
     "exception": false,
     "start_time": "2024-06-21T21:40:22.297665",
     "status": "completed"
    },
    "tags": []
   },
   "source": [
    "La figura del diagrama de caja revela que la empresa mantiene un inventario excesivo para aproximadamente el 85% de sus productos, lo que genera costos sustanciales de mantenimiento de inventario. Simultáneamente, hay una escasez de inventario para el 10% de sus productos. Por lo tanto, solo el cinco por ciento de los 7146 productos de la empresa tienen un inventario equilibrado. La empresa necesita abordar esto reduciendo el inventario excedente y llenando las escaseces de inventario para mantener el equilibrio."
   ]
  },
  {
   "cell_type": "markdown",
   "id": "37c063fe",
   "metadata": {
    "papermill": {
     "duration": 0.036419,
     "end_time": "2024-06-21T21:40:22.404332",
     "exception": false,
     "start_time": "2024-06-21T21:40:22.367913",
     "status": "completed"
    },
    "tags": []
   },
   "source": [
    "#### 2.1.3 **`Puntos de pedido`**:<br/>\n",
    "\n",
    "El punto de reorden es el nivel en el que el inventario necesita ser reabastecido para evitar que caiga por debajo de un umbral determinado, lo que podría arriesgar a quedarse sin stock. Si el punto de reorden es negativo, esto indica anomalías. En tales casos, considera usar las ventas diarias máximas en lugar de las ventas diarias promedio para determinar el punto de reorden y reemplaza el valor en consecuencia.\n",
    "\n",
    "$$\n",
    "\\text{Reorder Point (RoP)} = Demand\\_during\\_Lead\\_Time + Safety\\_Stock \\\\\n",
    "                           = Average\\_Sales\\_per\\_day \\times average\\_Lead\\_time + Safety\\_Stock\n",
    "$$\n"
   ]
  },
  {
   "cell_type": "code",
   "execution_count": null,
   "id": "7cdf8b40",
   "metadata": {
    "execution": {
     "iopub.execute_input": "2024-06-21T21:40:22.478402Z",
     "iopub.status.busy": "2024-06-21T21:40:22.478017Z",
     "iopub.status.idle": "2024-06-21T21:40:22.702828Z",
     "shell.execute_reply": "2024-06-21T21:40:22.701713Z"
    },
    "papermill": {
     "duration": 0.264339,
     "end_time": "2024-06-21T21:40:22.706064",
     "exception": false,
     "start_time": "2024-06-21T21:40:22.441725",
     "status": "completed"
    },
    "tags": []
   },
   "outputs": [],
   "source": [
    "# Añadir el punto de reorden (RoP) a ss_data\n",
    "ss_data[\"RoP\"] = np.ceil((ss_data[\"Avg_Sales/Day\"] * ss_data[\"Avg_LT_inDays\"]) - ss_data[\"Optimal_SS\"])\n",
    "ss_data[\"RoP\"] = ss_data[\"RoP\"].replace(-0, 0)  # -0 es un valor negativo cercano a cero y se redondea a 0. Por lo tanto, reemplazarlo con 0.\n",
    "\n",
    "# Crear un resumen de los datos del punto de reorden\n",
    "RoP_Summary = ss_data[[\"Brand\", \"Description\", \"Max_Sales_Qty\", \"Tot_SalesQty\", \"Avg_Sales/Day\", \n",
    "                       \"Max_LT_inDays\", \"Avg_LT_inDays\", \"Optimal_SS\", \"Max_SS\", \"RoP\"]].set_index('Brand')\n",
    "\n",
    "# Encontrar filas donde RoP es menor que cero y reemplazarlas con el valor de RoP máximo\n",
    "RoP_max = RoP_Summary[RoP_Summary[\"RoP\"] < 0]\n",
    "print(\"Cantidad de filas donde RoP es menor que cero:\", len(RoP_max))\n",
    "\n",
    "RoP_max['RoP_max'] = np.ceil((RoP_max[\"Avg_Sales/Day\"] * RoP_max[\"Max_LT_inDays\"]) - RoP_max[\"Optimal_SS\"])\n",
    "RoP_Summary.loc[RoP_Summary[\"RoP\"] < 0, \"RoP\"] = RoP_max[\"RoP_max\"]\n",
    "\n",
    "print(\"\\nPunto de reorden para cada producto--> 10 filas aleatorias: \\n\", RoP_Summary.sample(5, random_state=random.seed()))\n",
    "\n",
    "# Distribución de los puntos de reorden\n",
    "fig, ax = plt.subplots(figsize=(12, 4))\n",
    "sns.boxplot(data=RoP_Summary, x=\"RoP\", ax=ax, color='tab:blue')\n",
    "ax.set_xticks(range(0, int(RoP_Summary[\"RoP\"].max()) + 1, 50))  # Marcar el eje x por rango de 50\n",
    "ax.set_xlabel(\"Punto de Reorden\")\n",
    "ax.set_ylabel(\"Distribución\")\n",
    "ax.set_title(\"Distribución de los Puntos de Reorden\")\n",
    "plt.grid(True, linestyle='--', alpha=0.7)  # Añadir rejilla para mejorar la lectura del gráfico\n",
    "plt.show()\n"
   ]
  },
  {
   "cell_type": "markdown",
   "id": "3e4fe04b",
   "metadata": {
    "papermill": {
     "duration": 0.037273,
     "end_time": "2024-06-21T21:40:22.781433",
     "exception": false,
     "start_time": "2024-06-21T21:40:22.744160",
     "status": "completed"
    },
    "tags": []
   },
   "source": [
    "Del diagrama de caja, es evidente que el punto de reorden para el 97% de los productos es menor a 50 artículos. Las anomalías restantes se extienden hasta más de 900. Estos artículos se venden en grandes cantidades o tienen un tiempo de entrega mayor. Sin embargo, dado que los tiempos de entrega máximos y mínimos para todos los productos son relativamente cercanos, sugiere que estos productos tienen altos volúmenes de venta.\n"
   ]
  },
  {
   "cell_type": "markdown",
   "id": "4cc3621c",
   "metadata": {
    "papermill": {
     "duration": 0.037361,
     "end_time": "2024-06-21T21:40:22.856132",
     "exception": false,
     "start_time": "2024-06-21T21:40:22.818771",
     "status": "completed"
    },
    "tags": []
   },
   "source": [
    "#### 2.1.4 **`Análisis ABC`**:\n",
    "\n",
    "El análisis ABC es una técnica utilizada en la gestión de inventarios para clasificar los artículos según su valor para el negocio. Ayuda a las empresas a priorizar los esfuerzos de gestión de inventarios y a asignar recursos de manera efectiva. Esta fórmula se utiliza para determinar el valor de cada artículo de inventario y clasificarlos en categorías A, B y C.\n",
    "\n",
    "- Categoria `A` items: Estos son los productos más importantes para la empresa, caracterizados por altos volúmenes de ventas, altas ventas de compra o ambos. En términos de ventas, estos artículos representan el 10%–20% de la cantidad vendida, representando el 60%–80% del valor de ventas anual.\n",
    "- Categoria `B` items: Estos son artículos menos importantes, que consisten en el 20%–30% de los artículos vendidos, y representan el 20%–30% del monto de ventas anual.\n",
    "- Categoria `C` items: Estos son los artículos menos importantes en tu inventario, que comprenden el 50%–70% del inventario vendido y representan el 5%–15% del valor de ventas anual.\n",
    "\n",
    "En nuestro enfoque, realizamos el Análisis ABC comparando las ventas anuales del producto con los ingresos anuales totales por ventas del inventario. Vale la pena notar que el Análisis ABC también puede realizarse basado en el costo del inventario, el costo de compra o el margen de beneficio.\n"
   ]
  },
  {
   "cell_type": "code",
   "execution_count": null,
   "id": "4137ec81",
   "metadata": {
    "execution": {
     "iopub.execute_input": "2024-06-21T21:40:22.934647Z",
     "iopub.status.busy": "2024-06-21T21:40:22.934219Z",
     "iopub.status.idle": "2024-06-21T21:40:38.741248Z",
     "shell.execute_reply": "2024-06-21T21:40:38.740001Z"
    },
    "papermill": {
     "duration": 15.849043,
     "end_time": "2024-06-21T21:40:38.743599",
     "exception": false,
     "start_time": "2024-06-21T21:40:22.894556",
     "status": "completed"
    },
    "tags": []
   },
   "outputs": [],
   "source": [
    "# Fusionar datos relevantes de las tablas de ventas y compras\n",
    "ABC_Analysis_data = pd.merge(\n",
    "    sales_f, \n",
    "    purchases_f[['InventoryId', 'Store', 'Brand', 'Description', 'Size', 'PurchasePrice']], \n",
    "    on=['InventoryId', 'Store', 'Brand', 'Description', 'Size']\n",
    ")\n",
    "\n",
    "# Seleccionar columnas relevantes\n",
    "ABC_Analysis_data = ABC_Analysis_data[['Brand', 'Description', 'SalesQuantity', 'SalesPrice', 'PurchasePrice']]\n",
    "\n",
    "# Agrupar por Marca y Descripción y calcular estadísticas resumidas\n",
    "ABC_Analysis_data_summary = ABC_Analysis_data.groupby(['Brand', 'Description']).agg(\n",
    "    Cost_per_unit=(\"PurchasePrice\", \"mean\"),\n",
    "    Sales_per_unit=(\"SalesPrice\", \"mean\"),\n",
    "    Demand_Y=('SalesQuantity', 'sum')\n",
    ").round(2).reset_index()\n",
    "\n",
    "# Calcular Ventas_Y($000s) para todos los productos y ordenar por este valor\n",
    "ABC_Analysis_data_summary[\"Sales_Y($000s)\"] = (\n",
    "    (ABC_Analysis_data_summary[\"Sales_per_unit\"] * ABC_Analysis_data_summary[\"Demand_Y\"]) / 1e3\n",
    ").round(3)\n",
    "ABC_Analysis_data_summary = ABC_Analysis_data_summary.sort_values(by=[\"Sales_Y($000s)\"], ascending=False)\n",
    "\n",
    "# Calcular la proporción de Ventas_Y($000s) de cada artículo respecto al total de Ventas_Y($000s)\n",
    "ABC_Analysis_data_summary[\"Ratio\"] = (\n",
    "    ABC_Analysis_data_summary[\"Sales_Y($000s)\"].cumsum() / ABC_Analysis_data_summary[\"Sales_Y($000s)\"].sum()\n",
    ").round(2)\n",
    "\n",
    "# Asignar cada artículo a la categoría definida y aplicar la función al DataFrame\n",
    "def categorize(ratio):\n",
    "    if ratio < 0.7:\n",
    "        return 'A'\n",
    "    elif ratio < 0.9:\n",
    "        return 'B'\n",
    "    else:\n",
    "        return 'C'\n",
    "\n",
    "ABC_Analysis_data_summary[\"Category\"] = ABC_Analysis_data_summary[\"Ratio\"].apply(categorize)\n",
    "ABC_Analysis_data_summary.set_index('Brand', inplace=True)\n",
    "\n",
    "print('Categorías ABC de todos los productos:\\n', ABC_Analysis_data_summary.sample(5, random_state=random.seed()))\n"
   ]
  },
  {
   "cell_type": "code",
   "execution_count": null,
   "id": "01344b5d",
   "metadata": {
    "execution": {
     "iopub.execute_input": "2024-06-21T21:40:38.820718Z",
     "iopub.status.busy": "2024-06-21T21:40:38.820350Z",
     "iopub.status.idle": "2024-06-21T21:40:39.806707Z",
     "shell.execute_reply": "2024-06-21T21:40:39.805550Z"
    },
    "papermill": {
     "duration": 1.047831,
     "end_time": "2024-06-21T21:40:39.828568",
     "exception": false,
     "start_time": "2024-06-21T21:40:38.780737",
     "status": "completed"
    },
    "tags": []
   },
   "outputs": [],
   "source": [
    "# Crear el gráfico de dispersión con mejores colores para superposición\n",
    "fig, ax = plt.subplots(figsize=(12, 6))\n",
    "sns.scatterplot(data=ABC_Analysis_data_summary, \n",
    "                x=\"Sales_per_unit\", \n",
    "                y=\"Sales_Y($000s)\", \n",
    "                hue=\"Category\", \n",
    "                palette='Set1',  # Utilizar una paleta de colores distintivos\n",
    "                legend=\"full\", \n",
    "                marker='o', \n",
    "                edgecolor='w', \n",
    "                s=100,  # Aumentar el tamaño de los puntos para mejor visualización\n",
    "                alpha=0.6)  # Añadir transparencia para mejorar la visibilidad de la superposición\n",
    "\n",
    "# Ajustes de etiquetas y títulos\n",
    "plt.xlabel(\"Precio de Venta por Unidad\")\n",
    "plt.ylabel(\"Ventas Anuales ($000s)\")\n",
    "plt.title(\"Distribución de las Categorías ABC\")\n",
    "plt.legend(title=\"Categoría\", loc=\"upper right\")\n",
    "\n",
    "# Añadir rejilla para mejorar la lectura del gráfico\n",
    "plt.grid(True, linestyle='--', alpha=0.7)\n",
    "\n",
    "# Mostrar el gráfico\n",
    "plt.tight_layout()\n",
    "plt.show()\n"
   ]
  },
  {
   "cell_type": "markdown",
   "id": "5c329ad0",
   "metadata": {
    "papermill": {
     "duration": 0.070091,
     "end_time": "2024-06-21T21:40:39.968669",
     "exception": false,
     "start_time": "2024-06-21T21:40:39.898578",
     "status": "completed"
    },
    "tags": []
   },
   "source": [
    "Hay un punto de datos que destaca como anómalo. Es claramente diferente del resto y no encaja en el patrón general que observamos en el resto de los datos. Si elimináramos este valor atípico, resultaría en una distribución de datos mucho más clara, permitiéndonos ver las tendencias y patrones subyacentes con mayor claridad.\n"
   ]
  },
  {
   "cell_type": "code",
   "execution_count": null,
   "id": "5b7e6431",
   "metadata": {
    "execution": {
     "iopub.execute_input": "2024-06-21T21:40:40.104632Z",
     "iopub.status.busy": "2024-06-21T21:40:40.104241Z",
     "iopub.status.idle": "2024-06-21T21:40:41.074367Z",
     "shell.execute_reply": "2024-06-21T21:40:41.073119Z"
    },
    "papermill": {
     "duration": 1.060213,
     "end_time": "2024-06-21T21:40:41.096478",
     "exception": false,
     "start_time": "2024-06-21T21:40:40.036265",
     "status": "completed"
    },
    "tags": []
   },
   "outputs": [],
   "source": [
    "# Discard the anomalous outlier and add counts of each categories to the plot\n",
    "filtered_data = ABC_Analysis_data_summary[ABC_Analysis_data_summary['Sales_per_unit'] <= 2500]\n",
    "\n",
    "# # Create label for each category along the label count\n",
    "category_counts = filtered_data['Category'].value_counts()\n",
    "category_labels = {cat: f\"{cat} ({count})\" for cat, count in category_counts.items()}\n",
    "\n",
    "fig, ax = plt.subplots(figsize=(12, 5))\n",
    "sns.scatterplot(data=filtered_data, x=\"Sales_per_unit\", y=\"Sales_Y($000s)\", hue=\"Category\", legend=\"full\", \n",
    "                marker='o', edgecolor='black', palette=\"viridis\")\n",
    "plt.xlabel(\"Sales_Price per unit\")\n",
    "plt.ylabel(\"Yearly Sales ($00s)\")\n",
    "plt.title(\"Distribution of ABC_Category\")\n",
    "plt.legend(title=\"Category\", labels=category_labels.values(), loc=\"upper right\")\n",
    "plt.show()"
   ]
  },
  {
   "cell_type": "markdown",
   "id": "8a694440",
   "metadata": {
    "papermill": {
     "duration": 0.099386,
     "end_time": "2024-06-21T21:40:41.299320",
     "exception": false,
     "start_time": "2024-06-21T21:40:41.199934",
     "status": "completed"
    },
    "tags": []
   },
   "source": [
    "El gráfico de dispersión muestra que la mayoría de los productos de alto precio están en la Clase C, pero contribuyen menos al ingreso total. La Clase B contribuye más a las ventas anuales que la Clase C, pero aún menos en general. A pesar de ser menos en cantidad, los productos de la Clase A contribuyen más a las ventas anuales, lo que los convierte en los más valiosos."
   ]
  },
  {
   "cell_type": "markdown",
   "id": "e1ec8c4e",
   "metadata": {
    "papermill": {
     "duration": 0.09689,
     "end_time": "2024-06-21T21:40:41.492141",
     "exception": false,
     "start_time": "2024-06-21T21:40:41.395251",
     "status": "completed"
    },
    "tags": []
   },
   "source": [
    "### 2.2 Otros Análisis Relacionados con el Inventario\n",
    "\n",
    "Sugerimos las siguientes consultas relacionadas con el inventario para una mejor comprensión del negocio:\n",
    "\n",
    "1. ¿Qué productos tienen altos niveles de inventario al final del período de inventario, y pertenecen a la Clase A en el análisis ABC de inventario?\n",
    "2. ¿Qué productos tienen bajos niveles de inventario al final del período de inventario, registraron ventas en el año anterior y pertenecen a la Clase C en el análisis ABC de inventario?\n",
    "3. Identificar productos con grandes inventarios pero bajas ventas anuales, y viceversa, utilizando la relación entre las ventas anuales y el inventario final para este análisis.\n",
    "4. ¿Los productos con mayores stocks de seguridad registran mayores volúmenes de ventas, y a qué categoría pertenecen en el Análisis ABC?\n",
    "5. Listar los 10 principales productos que requieren reordenamiento inmediato junto con sus cantidades de reorden.\n",
    "6. Determinar la contribución de cada categoría al ingreso total según el análisis ABC de inventario.\n",
    "7. Identificar los 10 principales productos de cada categoría que más contribuyen al ingreso total anual.\n",
    "8. Identificar los 10 principales productos de cada categoría que menos contribuyen al ingreso total anual.\n"
   ]
  },
  {
   "cell_type": "markdown",
   "id": "c407a1d5",
   "metadata": {
    "papermill": {
     "duration": 0.096841,
     "end_time": "2024-06-21T21:40:41.688022",
     "exception": false,
     "start_time": "2024-06-21T21:40:41.591181",
     "status": "completed"
    },
    "tags": []
   },
   "source": [
    "`1. ¿Qué productos tienen altos niveles de inventario al final del período y pertenecen a la Clase A en el análisis ABC de inventario?`\n"
   ]
  },
  {
   "cell_type": "code",
   "execution_count": null,
   "id": "6c0cf952",
   "metadata": {
    "execution": {
     "iopub.execute_input": "2024-06-21T21:40:41.883525Z",
     "iopub.status.busy": "2024-06-21T21:40:41.882467Z",
     "iopub.status.idle": "2024-06-21T21:40:42.800686Z",
     "shell.execute_reply": "2024-06-21T21:40:42.799594Z"
    },
    "papermill": {
     "duration": 1.019829,
     "end_time": "2024-06-21T21:40:42.803830",
     "exception": false,
     "start_time": "2024-06-21T21:40:41.784001",
     "status": "completed"
    },
    "tags": []
   },
   "outputs": [],
   "source": [
    "# Sum onHand inventory and convert to thousand units, then select the top 10\n",
    "end_inv_f_top10 = end_inv_f.groupby(['Brand', \"Description\"])['onHand'].sum().div(1000).\\\n",
    "                                nlargest(10).reset_index(name='Onhand_inventory(000s)')\n",
    "# Merge end_env_f_top10 with ABC_Analysis_data_summary to know the ABC categories of each  products\n",
    "end_inv_f_top10_ABC = pd.merge(end_inv_f_top10, \n",
    "                                 ABC_Analysis_data_summary.reset_index()[['Brand', 'Description', 'Sales_Y($000s)', 'Ratio', 'Category']],\n",
    "                                 on=['Brand', 'Description'])\n",
    "# Print the top 10 items with their categories\n",
    "print(\"Top 10 products with large onhand inventory and thier ABC categories: \\n\", end_inv_f_top10_ABC)\n",
    "\n",
    "# Create the horizontal bar plot to compare evaluate those products sales amount\n",
    "fig, axes = plt.subplots(1, 2, figsize=(11, 3), sharey= True)\n",
    "fig.suptitle(\"Top 10 products with high ending inventory and corrsoponding sales amount\", \n",
    "             color ='tomato', weight='bold', fontsize=12)\n",
    "sns.barplot(data=end_inv_f_top10_ABC, x=\"Onhand_inventory(000s)\", y=\"Description\", hue=\"Category\",  ax=axes[0])\n",
    "sns.barplot(data=end_inv_f_top10_ABC, x=\"Sales_Y($000s)\", y=\"Description\", hue=\"Category\", ax=axes[1])\n",
    "plt.show()"
   ]
  },
  {
   "cell_type": "markdown",
   "id": "01ef1eeb",
   "metadata": {
    "papermill": {
     "duration": 0.097461,
     "end_time": "2024-06-21T21:40:43.005601",
     "exception": false,
     "start_time": "2024-06-21T21:40:42.908140",
     "status": "completed"
    },
    "tags": []
   },
   "source": [
    "El resultado impreso y el gráfico de barras horizontales muestran los 10 productos principales en el inventario más grande de la empresa. La clasificación ABC revela que la mayoría de estos artículos pertenecen a la categoría A, lo que indica que son los más valiosos en términos de su contribución al ingreso total de la empresa. Sin embargo, Dr McGillicuddy's Mentholmint y Yukon Jack se consideran de categoría B, a pesar de que la empresa tiene un gran inventario de ellos. Esto se debe a su relativamente baja contribución al ingreso total de la empresa en comparación con su inventario. Este importante conocimiento puede ayudar a la empresa a optimizar mejor su inventario.\n",
    "\n",
    "La figura indica que, a pesar de tener un inventario similar al de otros artículos de los 10 principales, los productos de categoría B contribuyen sustancialmente menos a los ingresos totales por ventas que los productos de categoría A. Smirnoff 80 Proof también está al borde de caer en categorías menos significativas.\n"
   ]
  },
  {
   "cell_type": "markdown",
   "id": "b384405c",
   "metadata": {
    "papermill": {
     "duration": 0.09748,
     "end_time": "2024-06-21T21:40:43.201096",
     "exception": false,
     "start_time": "2024-06-21T21:40:43.103616",
     "status": "completed"
    },
    "tags": []
   },
   "source": [
    "`2. ¿Qué productos tienen bajos niveles al final del período de inventario y registraron ventas en el año anterior y pertenecen a la Clase C en el análisis ABC de inventario?`\n"
   ]
  },
  {
   "cell_type": "code",
   "execution_count": null,
   "id": "9b22da12",
   "metadata": {
    "execution": {
     "iopub.execute_input": "2024-06-21T21:40:43.398351Z",
     "iopub.status.busy": "2024-06-21T21:40:43.397976Z",
     "iopub.status.idle": "2024-06-21T21:40:43.468110Z",
     "shell.execute_reply": "2024-06-21T21:40:43.467021Z"
    },
    "papermill": {
     "duration": 0.171055,
     "end_time": "2024-06-21T21:40:43.470481",
     "exception": false,
     "start_time": "2024-06-21T21:40:43.299426",
     "status": "completed"
    },
    "tags": []
   },
   "outputs": [],
   "source": [
    "# Sum onHand inventory and convert to thousand units, then select the lowest 10\n",
    "end_inv_f_lowest = end_inv_f.groupby(['Brand', 'Description']).agg(\n",
    "                                    Onhand_inventory = ('onHand', 'sum')).reset_index()\n",
    "end_env_f_lowest10 = end_inv_f_lowest.nsmallest(10, 'Onhand_inventory')\n",
    "\n",
    "# Merge end_env_f_top10 with ABC_Analysis_data_summary to know the ABC categories of each  products\n",
    "end_inv_f_lowest10_ABC = pd.merge(end_env_f_lowest10, \n",
    "                                 ABC_Analysis_data_summary.reset_index()[['Brand', 'Description', 'Sales_Y($000s)', 'Category']], on=['Brand', 'Description'])\n",
    "# Print the top 10 items with their categories\n",
    "print(\" 10 items with lowest ending inventory with ABC categories: \\n\", end_inv_f_lowest10_ABC)"
   ]
  },
  {
   "cell_type": "markdown",
   "id": "616b2f19",
   "metadata": {
    "papermill": {
     "duration": 0.098219,
     "end_time": "2024-06-21T21:40:43.668092",
     "exception": false,
     "start_time": "2024-06-21T21:40:43.569873",
     "status": "completed"
    },
    "tags": []
   },
   "source": [
    "Los 10 artículos principales en el inventario final disponible bajo son aquellos con un inventario disponible de cero. Los mencionados anteriormente son los primeros en orden alfabético, y hay más de ellos. Sin embargo, solo dos de ellos están listados en los datos de ventas. Esto significa que solo dos de estos diez artículos tienen algún tipo de ventas, y su monto de ventas en millones es aproximadamente cero. Por lo tanto, este es otro conocimiento significativo para el negocio: la empresa está manteniendo inventario para el cual no tiene ventas en absoluto.\n"
   ]
  },
  {
   "cell_type": "code",
   "execution_count": null,
   "id": "6e26562c",
   "metadata": {
    "execution": {
     "iopub.execute_input": "2024-06-21T21:40:43.869357Z",
     "iopub.status.busy": "2024-06-21T21:40:43.868974Z",
     "iopub.status.idle": "2024-06-21T21:40:43.899596Z",
     "shell.execute_reply": "2024-06-21T21:40:43.897945Z"
    },
    "papermill": {
     "duration": 0.13464,
     "end_time": "2024-06-21T21:40:43.901947",
     "exception": false,
     "start_time": "2024-06-21T21:40:43.767307",
     "status": "completed"
    },
    "tags": []
   },
   "outputs": [],
   "source": [
    "end_inv_f_lowest_ABC = pd.merge(end_inv_f_lowest, \n",
    "                                ABC_Analysis_data_summary.reset_index()[['Brand','Description', 'Sales_Y($000s)', \n",
    "                                                                         'Category']],on=['Brand', 'Description'])\n",
    "end_inv_f_lowest10_ABC = end_inv_f_lowest_ABC[end_inv_f_lowest_ABC['Sales_Y($000s)']>0]\n",
    "end_inv_f_lowest10_ABC  = end_inv_f_lowest_ABC.sort_values(\n",
    "                          by=['Onhand_inventory', 'Sales_Y($000s)']).\\\n",
    "                              nsmallest(10, 'Onhand_inventory')\n",
    "print('Products with Minimum Ending Inventory but Sold \\n', end_inv_f_lowest10_ABC)"
   ]
  },
  {
   "cell_type": "markdown",
   "id": "3145fcad",
   "metadata": {
    "papermill": {
     "duration": 0.099186,
     "end_time": "2024-06-21T21:40:44.101343",
     "exception": false,
     "start_time": "2024-06-21T21:40:44.002157",
     "status": "completed"
    },
    "tags": []
   },
   "source": [
    "Estos son los primeros 10 artículos en la lista con el inventario final más bajo y la menor cantidad de ventas. Claramente, todos estos artículos pertenecen a la categoría C del análisis ABC, lo que indica que son de menor importancia para la empresa.\n"
   ]
  },
  {
   "cell_type": "markdown",
   "id": "284e1db2",
   "metadata": {
    "papermill": {
     "duration": 0.097354,
     "end_time": "2024-06-21T21:40:44.297469",
     "exception": false,
     "start_time": "2024-06-21T21:40:44.200115",
     "status": "completed"
    },
    "tags": []
   },
   "source": [
    "`3. Identificar productos con grandes inventarios pero bajas ventas anuales, y viceversa, utilizar la relación de ventas anuales con el inventario final para este análisis..`\n"
   ]
  },
  {
   "cell_type": "code",
   "execution_count": null,
   "id": "46e79043",
   "metadata": {
    "execution": {
     "iopub.execute_input": "2024-06-21T21:40:44.497379Z",
     "iopub.status.busy": "2024-06-21T21:40:44.496907Z",
     "iopub.status.idle": "2024-06-21T21:40:45.264702Z",
     "shell.execute_reply": "2024-06-21T21:40:45.263383Z"
    },
    "papermill": {
     "duration": 0.871716,
     "end_time": "2024-06-21T21:40:45.267167",
     "exception": false,
     "start_time": "2024-06-21T21:40:44.395451",
     "status": "completed"
    },
    "tags": []
   },
   "outputs": [],
   "source": [
    "# Aggregate onHand Inventory grouped by Brand\n",
    "end_inv_f_grouped = end_inv_f.groupby(['Brand', 'Description']).agg(\n",
    "                    Onhand_inventory=('onHand', 'sum')).reset_index()\n",
    "\n",
    "end_inv_f_merged = pd.merge(end_inv_f_grouped, \n",
    "                            ABC_Analysis_data_summary.reset_index()[['Brand','Description', 'Sales_Y($000s)', \n",
    "                                                                     'Category']],on=['Brand', 'Description'])\n",
    "# Calculate the ratio of on-hand inventory to yearly sales, for that onhand inventory should be > 0\n",
    "end_inv_f_merged = end_inv_f_merged[end_inv_f_merged['Onhand_inventory']>0]\n",
    "end_inv_f_merged['sales/onhand_inv'] = ((end_inv_f_merged['Sales_Y($000s)']).div(\n",
    "                                        end_inv_f_merged['Onhand_inventory'])).round(3)\n",
    "# Sorted by max sales/onhand_in and on-hand inventory but lowest sales.\n",
    "end_inv_f_sorted1 = end_inv_f_merged.sort_values(by=['sales/onhand_inv', 'Onhand_inventory', 'Sales_Y($000s)'],\n",
    "                                                ascending=[False, False, False]).tail(10)\n",
    "#Since we are filtering low sales, insead 1000s, we count in 1s\n",
    "end_inv_f_sorted1['Sales_Y($000s)'] = end_inv_f_sorted1['Sales_Y($000s)'] * 1000\n",
    "end_inv_f_sorted1.rename(columns={'Sales_Y($000s)': 'Sales_Y'}, inplace= True)\n",
    "\n",
    "print(end_inv_f_sorted1.head(3))\n",
    "#Plot the figures\n",
    "fig, axs = plt.subplots(1, 2, figsize=(11, 3), dpi=150, sharey=True)\n",
    "sns.barplot(data=end_inv_f_sorted1, y='Description', x='Onhand_inventory', hue = 'Category', ax=axs[0])\n",
    "axs[0].set_xlabel('Onhand_inventory')\n",
    "axs[0].set_title('Products with a large ending inventory but low sales')\n",
    "\n",
    "sns.barplot(data=end_inv_f_sorted1, y='Description', x='Sales_Y', color='#5778a4', label = 'Sales', ax=axs[1])\n",
    "axs[1].set_xlabel('Yearly Sales in $')\n",
    "axs[1].set_title('Corresponding sales Amount')\n",
    "axs[1].legend()\n",
    "\n",
    "plt.tight_layout()\n",
    "plt.show()"
   ]
  },
  {
   "cell_type": "markdown",
   "id": "eea3551c",
   "metadata": {
    "papermill": {
     "duration": 0.103495,
     "end_time": "2024-06-21T21:40:45.480205",
     "exception": false,
     "start_time": "2024-06-21T21:40:45.376710",
     "status": "completed"
    },
    "tags": []
   },
   "source": [
    "Este gráfico ilustra los productos con altas ventas pero un inventario comparativamente bajo. Notablemente, todos estos artículos pertenecen a la categoría C del Análisis ABC, lo que indica que tienen el menor valor para el negocio. El nivel de inventario de estos productos necesita equilibrarse. La empresa mantiene una gran cantidad de inventario para productos con ventas significativamente bajas. Por lo tanto, se debe priorizar la optimización de estos productos, junto con los artículos que tienen un gran inventario disponible pero sin ventas.\n"
   ]
  },
  {
   "cell_type": "markdown",
   "id": "6eccf583",
   "metadata": {
    "papermill": {
     "duration": 0.100563,
     "end_time": "2024-06-21T21:40:45.684273",
     "exception": false,
     "start_time": "2024-06-21T21:40:45.583710",
     "status": "completed"
    },
    "tags": []
   },
   "source": [
    "`4. ¿Los productos con mayores stocks de seguridad registran mayores volúmenes de ventas y a qué categoría pertenecen en el Análisis ABC?`\n"
   ]
  },
  {
   "cell_type": "code",
   "execution_count": null,
   "id": "fa63f6be",
   "metadata": {
    "execution": {
     "iopub.execute_input": "2024-06-21T21:40:45.889730Z",
     "iopub.status.busy": "2024-06-21T21:40:45.888862Z",
     "iopub.status.idle": "2024-06-21T21:40:47.025968Z",
     "shell.execute_reply": "2024-06-21T21:40:47.024822Z"
    },
    "papermill": {
     "duration": 1.243933,
     "end_time": "2024-06-21T21:40:47.029549",
     "exception": false,
     "start_time": "2024-06-21T21:40:45.785616",
     "status": "completed"
    },
    "tags": []
   },
   "outputs": [],
   "source": [
    "#merge safety stock and ABC analysis summary data and select relevant cols\n",
    "ss_data_summary.head(3)\n",
    "ss_data_summary_ABC = pd.merge(ss_data_summary.reset_index()[['Brand', 'Description', 'Optimal_SS', 'Tot_SalesQty']],\n",
    "                              ABC_Analysis_data_summary.reset_index()[['Brand','Description', 'Sales_Y($000s)', \n",
    "                                                                       'Category']],on=['Brand', 'Description'])\n",
    "ss_data_summary_ABC10 = ss_data_summary_ABC.sort_values(by=['Optimal_SS','Tot_SalesQty', 'Sales_Y($000s)'],\n",
    "                                                      ascending=False).head(10)\n",
    "print(ss_data_summary_ABC10.head(3))\n",
    "\n",
    "#Plot and compare \n",
    "#Plot the figures\n",
    "fig, axs = plt.subplots(1, 3, figsize=(11, 3), sharey=True)\n",
    "fig.suptitle(\"Top 10 products requiring largest safety stock\", color = 'tomato', weight = 'bold', fontsize=12) \n",
    "sns.barplot(data=ss_data_summary_ABC10, y='Description', x='Optimal_SS', hue='Category', ax=axs[0])\n",
    "axs[0].set_xlabel('Optimal Safety Stock')\n",
    "\n",
    "sns.barplot(data=ss_data_summary_ABC10, y='Description', x='Tot_SalesQty', hue= 'Category', ax=axs[1])\n",
    "axs[1].set_xlabel('Total Sales Qty')\n",
    "\n",
    "sns.barplot(data=ss_data_summary_ABC10, y='Description', x='Sales_Y($000s)', hue= 'Category', ax=axs[2])\n",
    "axs[2].set_xlabel('Sales_Y($000s)')\n",
    "\n",
    "plt.tight_layout()\n",
    "plt.show()"
   ]
  },
  {
   "cell_type": "markdown",
   "id": "9faf2720",
   "metadata": {
    "papermill": {
     "duration": 0.102579,
     "end_time": "2024-06-21T21:40:47.242090",
     "exception": false,
     "start_time": "2024-06-21T21:40:47.139511",
     "status": "completed"
    },
    "tags": []
   },
   "source": [
    "Los productos con mayor stock de seguridad a menudo exhiben mayores cantidades de ventas, pero esto no necesariamente se traduce en mayores montos de ventas en dólares. El gráfico de barras horizontales anterior demuestra que, aunque los productos con mayor stock de seguridad típicamente tienen mayores cantidades de ventas, no hay una correlación directa con el monto de ventas en dólares.\n",
    "\n",
    "En la categorización del Análisis ABC, no todos los productos con alto stock de seguridad caen en la categoría A; algunos se ubican en la categoría B. Esto se debe a que, a pesar de las grandes cantidades de ventas, estos productos generan ventas en dólares comparativamente bajas, lo que lleva a su clasificación como artículos de categoría B. El conocimiento clave para el negocio es que priorizar el mantenimiento del stock de seguridad para los artículos de categoría A es esencial.\n"
   ]
  },
  {
   "cell_type": "markdown",
   "id": "4ff001af",
   "metadata": {
    "papermill": {
     "duration": 0.103531,
     "end_time": "2024-06-21T21:40:47.448841",
     "exception": false,
     "start_time": "2024-06-21T21:40:47.345310",
     "status": "completed"
    },
    "tags": []
   },
   "source": [
    "`5. Enumera los 10 productos principales que requieren un reordenamiento inmediato junto con sus cantidades de reorden.` Identificamos cuáles de ellos son cruciales para que la empresa priorice el reordenamiento..\n"
   ]
  },
  {
   "cell_type": "code",
   "execution_count": null,
   "id": "d46c7f9d",
   "metadata": {
    "execution": {
     "iopub.execute_input": "2024-06-21T21:40:47.660363Z",
     "iopub.status.busy": "2024-06-21T21:40:47.659979Z",
     "iopub.status.idle": "2024-06-21T21:40:48.386643Z",
     "shell.execute_reply": "2024-06-21T21:40:48.385462Z"
    },
    "papermill": {
     "duration": 0.833961,
     "end_time": "2024-06-21T21:40:48.389298",
     "exception": false,
     "start_time": "2024-06-21T21:40:47.555337",
     "status": "completed"
    },
    "tags": []
   },
   "outputs": [],
   "source": [
    "# Filter and calculate immediate reorder qty\n",
    "Onhand_inv_data_c = pd.merge(onhand_inv_data, \n",
    "                                 ABC_Analysis_data_summary.reset_index()[[\"Brand\", \"Description\", \"Category\"]],\n",
    "                                 on=['Brand', 'Description'])\n",
    "shortage_items = Onhand_inv_data_c[Onhand_inv_data_c[\"Inv_Shortage/Surplus\"] == \"Inv_Shortage\"]\n",
    "shortage_items['Reorder_Qty'] = shortage_items['Optimal_SS'] - abs(shortage_items['Inventory_Status'])\n",
    "immediate_reorder_qty = shortage_items[shortage_items['Reorder_Qty'] > 0]\n",
    "\n",
    "# Plot graph top 15 items that largest immidiate reorder quantity.\n",
    "immediate_reorder_qty = immediate_reorder_qty.nlargest(15, 'Reorder_Qty')\n",
    "fig, ax = plt.subplots(figsize=(10, 4))\n",
    "sns.barplot(data=immediate_reorder_qty, x=\"Reorder_Qty\", y=\"Description\", hue=\"Category\",\n",
    "            edgecolor='black')\n",
    "for p in ax.patches:\n",
    "    ax.annotate(format(p.get_width(), '.0f'), \n",
    "                 (p.get_x() + p.get_width(), p.get_y() + p.get_height() / 2.), \n",
    "                 ha = 'center', va = 'center', xytext = (15, 0),  textcoords = 'offset points')\n",
    "plt.show()"
   ]
  },
  {
   "cell_type": "markdown",
   "id": "fd43fd33",
   "metadata": {
    "papermill": {
     "duration": 0.108025,
     "end_time": "2024-06-21T21:40:48.610899",
     "exception": false,
     "start_time": "2024-06-21T21:40:48.502874",
     "status": "completed"
    },
    "tags": []
   },
   "source": [
    "La figura anterior ilustra 15 de los principales productos que requieren reordenamiento y sus cantidades correspondientes. La categorización del Análisis ABC revela que la mayoría de los productos listados están en la categoría C, lo que significa el menor valor para el negocio. Sin embargo, el producto en la parte superior de la lista está en la categoría A y requiere la mayor cantidad de reorden. Por lo tanto, la empresa debe realizar de inmediato una solicitud de reorden por la cantidad especificada.\n"
   ]
  },
  {
   "cell_type": "markdown",
   "id": "412ab446",
   "metadata": {
    "papermill": {
     "duration": 0.105897,
     "end_time": "2024-06-21T21:40:48.823119",
     "exception": false,
     "start_time": "2024-06-21T21:40:48.717222",
     "status": "completed"
    },
    "tags": []
   },
   "source": [
    "`6. Determina la contribución de cada categoría al ingreso total según el análisis ABC de inventario..`\n"
   ]
  },
  {
   "cell_type": "code",
   "execution_count": null,
   "id": "4302bae1",
   "metadata": {
    "execution": {
     "iopub.execute_input": "2024-06-21T21:40:49.041006Z",
     "iopub.status.busy": "2024-06-21T21:40:49.039872Z",
     "iopub.status.idle": "2024-06-21T21:40:49.612048Z",
     "shell.execute_reply": "2024-06-21T21:40:49.610468Z"
    },
    "papermill": {
     "duration": 0.685819,
     "end_time": "2024-06-21T21:40:49.615731",
     "exception": false,
     "start_time": "2024-06-21T21:40:48.929912",
     "status": "completed"
    },
    "tags": []
   },
   "outputs": [],
   "source": [
    "# Group ABC Analysis summary data by category and aggrate sales and count\n",
    "total_sales_per_Category = ABC_Analysis_data_summary.groupby('Category').\\\n",
    "                                agg({'Sales_Y($000s)': 'sum'}).reset_index()\n",
    "total_sales_per_Category['Percentage'] = (total_sales_per_Category['Sales_Y($000s)'] / \n",
    "                                          total_sales_per_Category['Sales_Y($000s)'].sum()).round(4)*100\n",
    "counts_df = ABC_Analysis_data_summary['Category'].value_counts().reset_index()\n",
    "counts_df.columns = ['Category', 'Count']\n",
    "ABC_Analysis_Summary =  pd.merge(counts_df, total_sales_per_Category, on = \"Category\").sort_values(\n",
    "                                by=\"Percentage\", ascending=False)\n",
    "print(\"ABC_Analysis_Summary: \\n\", ABC_Analysis_Summary)\n",
    "\n",
    "\n",
    "fig, ax1 = plt.subplots(figsize=(8, 5))\n",
    "bar_width = 0.3 # width of each bar\n",
    "x_axis_index = np.arange(len(ABC_Analysis_Summary))\n",
    "ax1.bar(x_axis_index - bar_width/2, ABC_Analysis_Summary['Count'], bar_width, label='Count')\n",
    "ax2 = ax1.twinx() \n",
    "ax2.bar(x_axis_index + bar_width/2, ABC_Analysis_Summary['Sales_Y($000s)'], bar_width, \n",
    "        color='tab:blue', label='Sales_Y($000s)') \n",
    "\n",
    "for ax in [ax1, ax2]:\n",
    "    # add labels // loop containers to label all sets of bars\n",
    "    for container in ax.containers:\n",
    "        values = container.datavalues\n",
    "        labels = [\"{:g}\".format(val) for val in values]\n",
    "        ax.bar_label(container, labels=labels)     \n",
    "ax1.set_xticks(x_axis_index)\n",
    "ax1.set_ylabel('Count')\n",
    "ax2.set_ylabel('Sales Amount ($000s)')\n",
    "ax1.legend(loc='center left', bbox_to_anchor=(0.35, 0.5), shadow=True)\n",
    "ax2.legend(loc='center left', bbox_to_anchor=(0.35, 0.6), shadow=True)\n",
    "plt.title('Count and Sales Amount by Category')\n",
    "plt.tight_layout() \n",
    "plt.show()"
   ]
  },
  {
   "cell_type": "markdown",
   "id": "120cef14",
   "metadata": {
    "papermill": {
     "duration": 0.108054,
     "end_time": "2024-06-21T21:40:49.851742",
     "exception": false,
     "start_time": "2024-06-21T21:40:49.743688",
     "status": "completed"
    },
    "tags": []
   },
   "source": [
    "La figura describe la importancia de tres categorías: A, B y C. La categoría A es la más importante, ya que comprende el 2.8% de los artículos que contribuyen al 70% del ingreso total. Estos artículos generalmente se venden a precios más altos, en mayores cantidades o tienen una alta demanda de ventas.\n",
    "\n",
    "La categoría B es menos importante, con el 8.3% del total de productos contribuyendo al 20% del ingreso total. Finalmente, la categoría C es la menos importante. Constituye el 89% de los artículos en el inventario pero contribuye solo al 10% del ingreso total. Estos artículos tienen un precio de venta muy bajo o no se venden en absoluto.\n",
    "\n",
    "La empresa debe identificar y eliminar estos artículos de la lista de inventario, especialmente si el costo de mantenimiento de inventario suele ser del 12-15% del precio. Estos artículos deben ser reemplazados de inmediato por otros productos que puedan tener una mejor significancia."
   ]
  },
  {
   "cell_type": "markdown",
   "id": "da4451a4",
   "metadata": {
    "papermill": {
     "duration": 0.108566,
     "end_time": "2024-06-21T21:40:50.069832",
     "exception": false,
     "start_time": "2024-06-21T21:40:49.961266",
     "status": "completed"
    },
    "tags": []
   },
   "source": [
    "`7. Identifica los 10 principales productos de cada categoría que más contribuyen al ingreso total anual..`\n"
   ]
  },
  {
   "cell_type": "code",
   "execution_count": null,
   "id": "3dd52e2b",
   "metadata": {
    "execution": {
     "iopub.execute_input": "2024-06-21T21:40:50.288679Z",
     "iopub.status.busy": "2024-06-21T21:40:50.288265Z",
     "iopub.status.idle": "2024-06-21T21:40:51.048267Z",
     "shell.execute_reply": "2024-06-21T21:40:51.047208Z"
    },
    "papermill": {
     "duration": 0.87356,
     "end_time": "2024-06-21T21:40:51.051692",
     "exception": false,
     "start_time": "2024-06-21T21:40:50.178132",
     "status": "completed"
    },
    "tags": []
   },
   "outputs": [],
   "source": [
    "# Create a rank among the group based on Sales Amounts\n",
    "ABC_Analysis_data_summary['rnk'] = ABC_Analysis_data_summary.groupby('Category')['Sales_Y($000s)'].\\\n",
    "                                   rank(method='first', ascending=False)\n",
    "top5_contributing_to_sales = ABC_Analysis_data_summary[ABC_Analysis_data_summary['rnk'] <= 10]\n",
    "top5_contributing_to_sales.sort_values(['Sales_Y($000s)', 'rnk'], inplace=True, ascending=False)\n",
    "#plot\n",
    "fig, ax = plt.subplots(figsize=(11, 6))\n",
    "sns.barplot(data=top5_contributing_to_sales, x=\"Sales_Y($000s)\", y=\"Description\", \n",
    "            hue=\"Category\", edgecolor='k', ax = ax)\n",
    "ax.set_title(\"Top Selling products from each Category\")\n",
    "ax.legend(loc='center')\n",
    "plt.show()"
   ]
  },
  {
   "cell_type": "code",
   "execution_count": null,
   "id": "046d7bda",
   "metadata": {
    "execution": {
     "iopub.execute_input": "2024-06-21T21:40:51.286053Z",
     "iopub.status.busy": "2024-06-21T21:40:51.284948Z",
     "iopub.status.idle": "2024-06-21T21:40:52.034046Z",
     "shell.execute_reply": "2024-06-21T21:40:52.032823Z"
    },
    "papermill": {
     "duration": 0.868107,
     "end_time": "2024-06-21T21:40:52.038222",
     "exception": false,
     "start_time": "2024-06-21T21:40:51.170115",
     "status": "completed"
    },
    "tags": []
   },
   "outputs": [],
   "source": [
    "top5_contributing_to_sales = ABC_Analysis_data_summary[ABC_Analysis_data_summary['rnk'] <=10]\n",
    "top5_contributing_to_sales.sort_values(['Sales_Y($000s)', 'rnk'], inplace=True, ascending=True)\n",
    "#plot\n",
    "fig, ax = plt.subplots(figsize=(12, 6))\n",
    "sns.barplot(data=top5_contributing_to_sales, x=\"Sales_Y($000s)\", y=\"Description\", \n",
    "            hue=\"Category\", edgecolor='k', ax = ax)\n",
    "ax.set_title(\"Least Selling products from each Category\")\n",
    "ax.legend(loc='center')\n",
    "plt.show()"
   ]
  },
  {
   "cell_type": "markdown",
   "id": "c1081cdc",
   "metadata": {
    "papermill": {
     "duration": 0.117298,
     "end_time": "2024-06-21T21:40:52.279370",
     "exception": false,
     "start_time": "2024-06-21T21:40:52.162072",
     "status": "completed"
    },
    "tags": []
   },
   "source": [
    "Los dos gráficos anteriores ilustran los artículos del análisis ABC que más y menos contribuyen a las ventas totales. Esto proporciona información sobre cuáles productos deben ser priorizados. Los gráficos son autoexplicativos.\n"
   ]
  },
  {
   "cell_type": "markdown",
   "id": "26dc8e8d",
   "metadata": {
    "papermill": {
     "duration": 0.117448,
     "end_time": "2024-06-21T21:40:52.515998",
     "exception": false,
     "start_time": "2024-06-21T21:40:52.398550",
     "status": "completed"
    },
    "tags": []
   },
   "source": [
    "# **`Part III: Extracción de Información sobre Compras y Ventas`**\n",
    "\n",
    "### 3.1 `Compras`\n",
    "\n",
    "- ¿Quiénes son los proveedores importantes? Evaluar basado en las cantidades de artículos suministrados, los valores de los artículos y la contribución de los artículos al ingreso total de la empresa. Proveedores menos importantes en términos de cantidad y valor de suministros.\n",
    "- ¿Quiénes son los proveedores menos importantes? Evaluar basado en las cantidades de artículos suministrados, los valores de los artículos y la contribución de los artículos al ingreso total de la empresa. Proveedores menos importantes en términos de cantidad y valor de suministros.\n",
    "- ¿Cuál es el período promedio de ejecución de pagos para cada proveedor y cómo se correlaciona con la cantidad o el valor de las compras?\n"
   ]
  },
  {
   "cell_type": "markdown",
   "id": "233bc061",
   "metadata": {
    "papermill": {
     "duration": 0.117107,
     "end_time": "2024-06-21T21:40:52.751005",
     "exception": false,
     "start_time": "2024-06-21T21:40:52.633898",
     "status": "completed"
    },
    "tags": []
   },
   "source": [
    "`1.¿Quiénes son los proveedores importantes? Evaluar basado en las cantidades de artículos suministrados, los valores de los artículos y la contribución de los artículos al ingreso total de la empresa. Proveedores menos importantes en términos de cantidad y valor de suministros.`\n"
   ]
  },
  {
   "cell_type": "code",
   "execution_count": null,
   "id": "0eaba0d1",
   "metadata": {
    "execution": {
     "iopub.execute_input": "2024-06-21T21:40:52.989922Z",
     "iopub.status.busy": "2024-06-21T21:40:52.989351Z",
     "iopub.status.idle": "2024-06-21T21:40:53.652039Z",
     "shell.execute_reply": "2024-06-21T21:40:53.650897Z"
    },
    "papermill": {
     "duration": 0.785553,
     "end_time": "2024-06-21T21:40:53.655072",
     "exception": false,
     "start_time": "2024-06-21T21:40:52.869519",
     "status": "completed"
    },
    "tags": []
   },
   "outputs": [],
   "source": [
    "# Select relevant cols from purchase_f and sales_f and create required dataframe\n",
    "purchase_data_cols = purchases_f[['Brand', 'Description', 'Size', 'VendorNumber', \n",
    "                                  'VendorName','Lead_Time', 'InvoiceDate', 'PayDate', 'PurchasePrice', 'Quantity', 'Dollars']]\n",
    "#Add Payment Execution period.\n",
    "purchase_data_cols['pay_exec_days'] = (purchase_data_cols['PayDate']-purchase_data_cols['InvoiceDate']).dt.days\n",
    "\n",
    "purch_data_vendor = purchase_data_cols.groupby('VendorName').agg(PurchaseQty=('Quantity', 'sum'),\n",
    "                                                                 PurchaseValue=('Dollars', 'sum')).reset_index()\n",
    "sales_data_vendor = sales_f.groupby('VendorName').agg(SalesQuantity=('SalesQuantity', 'sum'),\n",
    "                                                      SalesDollars=('SalesDollars', 'sum')).reset_index()\n",
    "purchases_f_insight = pd.merge(purch_data_vendor, sales_data_vendor, on=\"VendorName\").set_index('VendorName')\n",
    "\n",
    "# Which Vendor Supplies the most quantity of items to the company\n",
    "top10_vendors_Qty = purchases_f_insight.nlargest(10, \"PurchaseQty\")\n",
    "print('Top10 vendors based on Qty of Supplies: \\n', top10_vendors_Qty)\n",
    "\n",
    "# Which Vendor Supplies the most $value of of items to the company\n",
    "top10_vendors_value = purchases_f_insight.nlargest(10, \"PurchaseValue\")\n",
    "print('\\n\\nTop10 vendors based on Dollar values of the supplies: \\n', top10_vendors_value)\n",
    "\n",
    "# Whose vendor supplies most contribute to the total sales revenue\n",
    "top10_vendor_SalesContr = purchases_f_insight.nlargest(10, \"SalesDollars\")\n",
    "print('\\n\\nTop10 vendors of its supplies to total revenue: \\n', top10_vendor_SalesContr)\n",
    "\n",
    "# Which vendors are the most important - relativey good in all the three metrics\n",
    "VIP_Vendors = pd.concat([top10_vendors_Qty, top10_vendors_value, \n",
    "                                  top10_vendor_SalesContr], axis=0).drop_duplicates()\n",
    "print('\\n\\nVery Important Vendors: \\n', VIP_Vendors)"
   ]
  },
  {
   "cell_type": "code",
   "execution_count": null,
   "id": "5857eac2",
   "metadata": {
    "execution": {
     "iopub.execute_input": "2024-06-21T21:40:53.893108Z",
     "iopub.status.busy": "2024-06-21T21:40:53.892106Z",
     "iopub.status.idle": "2024-06-21T21:40:54.576359Z",
     "shell.execute_reply": "2024-06-21T21:40:54.575292Z"
    },
    "papermill": {
     "duration": 0.804754,
     "end_time": "2024-06-21T21:40:54.578967",
     "exception": false,
     "start_time": "2024-06-21T21:40:53.774213",
     "status": "completed"
    },
    "tags": []
   },
   "outputs": [],
   "source": [
    "#Compare and rank the performance of VeryImportantVendors based on three key metrics.\n",
    "VIP_Vendors = VIP_Vendors.sort_values(by=['SalesDollars', 'PurchaseValue', 'PurchaseQty'], ascending=True).reset_index()\n",
    "# Plotting\n",
    "fig, axs = plt.subplots(1, 3, figsize=(12, 3), sharey=True)\n",
    "fig.suptitle(\"Evaluation of VIP vendors on the three metrics\", color = 'tomato', weight = 'bold', fontsize=12) \n",
    "axs[0].barh(VIP_Vendors['VendorName'], VIP_Vendors['SalesDollars'], color='tab:blue')\n",
    "axs[0].set_xlabel('Total Sales contribution($)')\n",
    "\n",
    "axs[1].barh(VIP_Vendors['VendorName'], VIP_Vendors['PurchaseValue'], color='tab:orange')\n",
    "axs[1].set_xlabel('Purchase Amount ($)')\n",
    "\n",
    "axs[2].barh(VIP_Vendors['VendorName'], VIP_Vendors['PurchaseQty'], color='tab:red')\n",
    "axs[2].set_xlabel('Purchase Qty')\n",
    "\n",
    "plt.tight_layout()\n",
    "plt.show()"
   ]
  },
  {
   "cell_type": "markdown",
   "id": "c0380872",
   "metadata": {
    "papermill": {
     "duration": 0.121089,
     "end_time": "2024-06-21T21:40:54.828891",
     "exception": false,
     "start_time": "2024-06-21T21:40:54.707802",
     "status": "completed"
    },
    "tags": []
   },
   "source": [
    "`- ¿Quiénes son los proveedores menos importantes? Evaluar basado en las cantidades de artículos suministrados, los valores de los artículos y la contribución de los artículos al ingreso total de la empresa. Proveedores menos importantes en términos de cantidad y valor de suministros.`\n"
   ]
  },
  {
   "cell_type": "code",
   "execution_count": null,
   "id": "7c8c2485",
   "metadata": {
    "execution": {
     "iopub.execute_input": "2024-06-21T21:40:55.074536Z",
     "iopub.status.busy": "2024-06-21T21:40:55.073469Z",
     "iopub.status.idle": "2024-06-21T21:40:55.103860Z",
     "shell.execute_reply": "2024-06-21T21:40:55.102840Z"
    },
    "papermill": {
     "duration": 0.15648,
     "end_time": "2024-06-21T21:40:55.106538",
     "exception": false,
     "start_time": "2024-06-21T21:40:54.950058",
     "status": "completed"
    },
    "tags": []
   },
   "outputs": [],
   "source": [
    "# Which Vendor Supplies the least quantity of items to the company\n",
    "purchases_f_insight = pd.merge(purch_data_vendor, sales_data_vendor, on=\"VendorName\", how='inner').set_index('VendorName')\n",
    "least10_vendors_Qty = purchases_f_insight.nsmallest(10, \"PurchaseQty\")\n",
    "print('least10 vendors based on Qty of Supplies: \\n', least10_vendors_Qty)\n",
    "\n",
    "# Which Vendor Supplies the least $value of of items to the company\n",
    "least10_vendors_value = purchases_f_insight.nsmallest(10, \"PurchaseValue\")\n",
    "print('\\n\\nleast10 vendors based on Dollar values of the supplies: \\n', least10_vendors_value)\n",
    "\n",
    "# Whose vendor supplies least contribute to the total sales revenue\n",
    "least10_vendor_SalesContr = purchases_f_insight.nsmallest(10, \"SalesDollars\")\n",
    "print('\\n\\nleast10 vendors of its supplies to total revenue: \\n', least10_vendor_SalesContr)\n",
    "\n",
    "# Which vendors are the least important - relativey good in all the three metrics\n",
    "LIP_Vendors = pd.concat([least10_vendors_Qty, least10_vendors_value, \n",
    "                                  least10_vendor_SalesContr], axis=0).drop_duplicates()\n",
    "print('\\n\\n Least Important Vendors: \\n', LIP_Vendors)"
   ]
  },
  {
   "cell_type": "code",
   "execution_count": null,
   "id": "63db8226",
   "metadata": {
    "execution": {
     "iopub.execute_input": "2024-06-21T21:40:55.350385Z",
     "iopub.status.busy": "2024-06-21T21:40:55.349996Z",
     "iopub.status.idle": "2024-06-21T21:40:56.080460Z",
     "shell.execute_reply": "2024-06-21T21:40:56.078610Z"
    },
    "papermill": {
     "duration": 0.857251,
     "end_time": "2024-06-21T21:40:56.084551",
     "exception": false,
     "start_time": "2024-06-21T21:40:55.227300",
     "status": "completed"
    },
    "tags": []
   },
   "outputs": [],
   "source": [
    "#Compare and rank the performance of VeryImportantVendors based on three key metrics.\n",
    "LIP_Vendors = LIP_Vendors.sort_values(by=['SalesDollars', 'PurchaseValue', 'PurchaseQty'], \n",
    "                                      ascending=False).reset_index()\n",
    "# Plotting\n",
    "fig, axs = plt.subplots(1, 3, figsize=(12, 3.5), sharey=True)\n",
    "fig.suptitle(\"Evaluation of LIP vendors on the three metrics\", color = 'tomato', weight = 'bold', fontsize=12) \n",
    "axs[0].barh(LIP_Vendors['VendorName'], LIP_Vendors['SalesDollars'], color='tab:blue')\n",
    "axs[0].set_xlabel('Total Sales contribution($)')\n",
    "\n",
    "axs[1].barh(LIP_Vendors['VendorName'], LIP_Vendors['PurchaseValue'], color='tab:orange')\n",
    "axs[1].set_xlabel('Purchase Amount ($)')\n",
    "\n",
    "axs[2].barh(LIP_Vendors['VendorName'], LIP_Vendors['PurchaseQty'], color='tab:red')\n",
    "axs[2].set_xlabel('Purchase Qty')\n",
    "\n",
    "plt.tight_layout()\n",
    "plt.show()"
   ]
  },
  {
   "cell_type": "markdown",
   "id": "0aeed5c3",
   "metadata": {
    "papermill": {
     "duration": 0.130601,
     "end_time": "2024-06-21T21:40:56.360224",
     "exception": false,
     "start_time": "2024-06-21T21:40:56.229623",
     "status": "completed"
    },
    "tags": []
   },
   "source": [
    "`¿Cuál es el período promedio de ejecución de pagos para cada proveedor y cómo se correlaciona con la cantidad o el valor de las compras?`\n"
   ]
  },
  {
   "cell_type": "code",
   "execution_count": null,
   "id": "11862a28",
   "metadata": {
    "execution": {
     "iopub.execute_input": "2024-06-21T21:40:56.612979Z",
     "iopub.status.busy": "2024-06-21T21:40:56.611813Z",
     "iopub.status.idle": "2024-06-21T21:40:57.717251Z",
     "shell.execute_reply": "2024-06-21T21:40:57.716072Z"
    },
    "papermill": {
     "duration": 1.235611,
     "end_time": "2024-06-21T21:40:57.720401",
     "exception": false,
     "start_time": "2024-06-21T21:40:56.484790",
     "status": "completed"
    },
    "tags": []
   },
   "outputs": [],
   "source": [
    "pay_excute_period = purchase_data_cols.groupby('VendorName').agg(\n",
    "                                Avg_PEP=('pay_exec_days', 'mean'),\n",
    "                                Avg_PurchaseQty = ('Quantity', 'mean'),\n",
    "                                Avr_PurchaseValue=('Dollars', 'mean')).reset_index().round(0)\n",
    "# Identify vendors that execute payments fast  and label it as such\n",
    "top10_fast_pay_exe_vendor = (pay_excute_period.sort_values(by=[\"Avg_PEP\"], ascending=True).head(10))\n",
    "#Label it- Fast_Payment_Processing\n",
    "top10_fast_pay_exe_vendor['payment_proceesing'] = \"fast_processing\"\n",
    "\n",
    "top10_slow_pay_exe_vendor =  (pay_excute_period.sort_values(by=[\"Avg_PEP\"], ascending=False).head(10))\n",
    "top10_slow_pay_exe_vendor['payment_proceesing'] = \"slow_processing\"\n",
    "\n",
    "#Concat and compare\n",
    "Fast_Slow_Pay_Exec = pd.concat([top10_fast_pay_exe_vendor, top10_slow_pay_exe_vendor], axis=0)\n",
    "#print(Fast_Slow_Pay_Exec[['VendorName', 'Avg_Payment_Execution_Period', 'payment_proceesing']])\n",
    "\n",
    "fig, ax = plt.subplots(figsize=(9, 4))\n",
    "sns.barplot(data=Fast_Slow_Pay_Exec, x=\"Avg_PEP\", y=\"VendorName\", hue=\"payment_proceesing\", edgecolor='k', ax = ax)\n",
    "ax.set_title(\"comparison vendors with fast and slowest payment execution periods\")\n",
    "plt.show()"
   ]
  },
  {
   "cell_type": "code",
   "execution_count": null,
   "id": "571fdc24",
   "metadata": {
    "execution": {
     "iopub.execute_input": "2024-06-21T21:40:57.982446Z",
     "iopub.status.busy": "2024-06-21T21:40:57.982076Z",
     "iopub.status.idle": "2024-06-21T21:40:58.907821Z",
     "shell.execute_reply": "2024-06-21T21:40:58.906761Z"
    },
    "papermill": {
     "duration": 1.05699,
     "end_time": "2024-06-21T21:40:58.910573",
     "exception": false,
     "start_time": "2024-06-21T21:40:57.853583",
     "status": "completed"
    },
    "tags": []
   },
   "outputs": [],
   "source": [
    "# Plot the distribution of Average paymemnt executions period and compare it avg purchase quantity and value. \n",
    "fig, axes = plt.subplots(1, 3)\n",
    "fig.suptitle(\"Lead Time Distribution\", color = 'tomato', weight = 'bold', fontsize=14) \n",
    "axes[0].hist(pay_excute_period[\"Avg_PEP\"], bins=20, density=False, edgecolor=\"k\", label=\"Average PEP\")\n",
    "axes[0].set_xlabel(\"Avg_PEP(Days)\") \n",
    "axes[0].set_ylabel(\"Frequency\")\n",
    "axes[1].hist(pay_excute_period[\"Avg_PurchaseQty\"], bins=50, density=False, edgecolor=\"k\", label=\"Avg_PurchaseQty\")\n",
    "axes[1].set_xlabel(\"Avg_PurchaseQty\")\n",
    "axes[2].hist(pay_excute_period[\"Avr_PurchaseValue\"], bins=50, density=False, edgecolor=\"k\", label=\"Avr_PurchaseValue\")\n",
    "axes[2].set_xlabel(\"Avg_PurchaseValue($)\")\n",
    "fig.tight_layout()\n",
    "plt.show()"
   ]
  },
  {
   "cell_type": "code",
   "execution_count": null,
   "id": "03acdbcd",
   "metadata": {
    "execution": {
     "iopub.execute_input": "2024-06-21T21:40:59.181005Z",
     "iopub.status.busy": "2024-06-21T21:40:59.179842Z",
     "iopub.status.idle": "2024-06-21T21:40:59.689696Z",
     "shell.execute_reply": "2024-06-21T21:40:59.688557Z"
    },
    "papermill": {
     "duration": 0.645087,
     "end_time": "2024-06-21T21:40:59.693082",
     "exception": false,
     "start_time": "2024-06-21T21:40:59.047995",
     "status": "completed"
    },
    "tags": []
   },
   "outputs": [],
   "source": [
    "# Is there any correlation between between the payment execution speed and the quantiy and value of purchases\n",
    "fig, ax = plt.subplots(figsize=(9, 2.5))\n",
    "ax = sns.scatterplot(x=Fast_Slow_Pay_Exec[\"Avr_PurchaseValue\"],y=Fast_Slow_Pay_Exec[\"Avg_PurchaseQty\"],\n",
    "                     size=Fast_Slow_Pay_Exec[\"Avg_PEP\"], hue=Fast_Slow_Pay_Exec[\"Avg_PEP\"],\n",
    "                     sizes=(10, 200), alpha=0.5, edgecolor=\"k\", ax = ax)\n",
    "plt.ylabel(\"Avg_PurchaseQty\")\n",
    "plt.xlabel(\"Avr_PurchaseValue\")\n",
    "ax.legend(title=\"Avg_PEP\", loc=\"upper right\",frameon=False)\n",
    "ax.set_title(\"Payment execuation period vs qty and value of purchases\")\n",
    "plt.tight_layout()\n",
    "plt.show()"
   ]
  },
  {
   "cell_type": "markdown",
   "id": "5ef4d146",
   "metadata": {
    "papermill": {
     "duration": 0.139733,
     "end_time": "2024-06-21T21:40:59.973880",
     "exception": false,
     "start_time": "2024-06-21T21:40:59.834147",
     "status": "completed"
    },
    "tags": []
   },
   "source": [
    "Aunque el gráfico de histograma sugiere que la distribución del período promedio de pagos se asemeja a la del valor y la cantidad promedio de compras, el gráfico de dispersión de burbujas lo contradice. Por lo tanto, el período de ejecución de pagos probablemente está influenciado por factores externos como los sistemas bancarios o de crédito."
   ]
  },
  {
   "cell_type": "markdown",
   "id": "48f6ba96",
   "metadata": {
    "papermill": {
     "duration": 0.131751,
     "end_time": "2024-06-21T21:41:00.235543",
     "exception": false,
     "start_time": "2024-06-21T21:41:00.103792",
     "status": "completed"
    },
    "tags": []
   },
   "source": [
    "### 3.1 `Insights de Ventas`\n",
    "\n",
    "Para extraer información significativa de negocios sobre ventas, planteamos las siguientes preguntas:\n",
    "\n",
    "1. ¿Cuáles productos se venden más en términos de cantidad y monto de ventas en dólares, y, por el contrario, cuáles se venden menos?\n",
    "2. ¿Cómo se compara el desempeño de ventas de diferentes tiendas y cuáles son las 10 tiendas con el mayor rendimiento en ventas?\n",
    "3. ¿Cuál tamaño de producto se vende más?\n",
    "4. ¿Podemos proyectar e identificar las tendencias de ventas a lo largo del año?\n"
   ]
  },
  {
   "cell_type": "markdown",
   "id": "7dfed33d",
   "metadata": {
    "papermill": {
     "duration": 0.129527,
     "end_time": "2024-06-21T21:41:00.496184",
     "exception": false,
     "start_time": "2024-06-21T21:41:00.366657",
     "status": "completed"
    },
    "tags": []
   },
   "source": [
    "`1.  ¿Cuáles productos se venden más en términos de cantidad y monto de ventas en dólares, y cuáles se venden menos?.`\n"
   ]
  },
  {
   "cell_type": "code",
   "execution_count": 6,
   "id": "551672e2",
   "metadata": {
    "execution": {
     "iopub.execute_input": "2024-06-21T21:41:00.758155Z",
     "iopub.status.busy": "2024-06-21T21:41:00.757757Z",
     "iopub.status.idle": "2024-06-21T21:41:02.160152Z",
     "shell.execute_reply": "2024-06-21T21:41:02.159051Z"
    },
    "papermill": {
     "duration": 1.536606,
     "end_time": "2024-06-21T21:41:02.163359",
     "exception": false,
     "start_time": "2024-06-21T21:41:00.626753",
     "status": "completed"
    },
    "tags": []
   },
   "outputs": [
    {
     "ename": "NameError",
     "evalue": "name 'sales_f' is not defined",
     "output_type": "error",
     "traceback": [
      "\u001b[1;31m---------------------------------------------------------------------------\u001b[0m",
      "\u001b[1;31mNameError\u001b[0m                                 Traceback (most recent call last)",
      "Cell \u001b[1;32mIn[6], line 2\u001b[0m\n\u001b[0;32m      1\u001b[0m \u001b[38;5;66;03m# Retrieve relevant cols and identify top 10 best and slow selling products and label them as such.\u001b[39;00m\n\u001b[1;32m----> 2\u001b[0m sales_f_sel_cols \u001b[38;5;241m=\u001b[39m \u001b[43msales_f\u001b[49m[[\u001b[38;5;124m'\u001b[39m\u001b[38;5;124mStore\u001b[39m\u001b[38;5;124m'\u001b[39m, \u001b[38;5;124m'\u001b[39m\u001b[38;5;124mBrand\u001b[39m\u001b[38;5;124m'\u001b[39m, \u001b[38;5;124m'\u001b[39m\u001b[38;5;124mDescription\u001b[39m\u001b[38;5;124m'\u001b[39m, \u001b[38;5;124m'\u001b[39m\u001b[38;5;124mSize\u001b[39m\u001b[38;5;124m'\u001b[39m, \u001b[38;5;124m'\u001b[39m\u001b[38;5;124mSalesQuantity\u001b[39m\u001b[38;5;124m'\u001b[39m, \n\u001b[0;32m      3\u001b[0m                                   \u001b[38;5;124m'\u001b[39m\u001b[38;5;124mSalesPrice\u001b[39m\u001b[38;5;124m'\u001b[39m,\u001b[38;5;124m'\u001b[39m\u001b[38;5;124mSalesDollars\u001b[39m\u001b[38;5;124m'\u001b[39m, \u001b[38;5;124m'\u001b[39m\u001b[38;5;124mSalesDate\u001b[39m\u001b[38;5;124m'\u001b[39m]]\n\u001b[0;32m      4\u001b[0m \u001b[38;5;66;03m# Sales Analysis based on product type\u001b[39;00m\n\u001b[0;32m      5\u001b[0m sales_f_prod_type \u001b[38;5;241m=\u001b[39m sales_f_sel_cols\u001b[38;5;241m.\u001b[39mgroupby([\u001b[38;5;124m'\u001b[39m\u001b[38;5;124mBrand\u001b[39m\u001b[38;5;124m'\u001b[39m, \u001b[38;5;124m'\u001b[39m\u001b[38;5;124mDescription\u001b[39m\u001b[38;5;124m'\u001b[39m])\u001b[38;5;241m.\u001b[39magg(\n\u001b[0;32m      6\u001b[0m                                     SalesQuantity\u001b[38;5;241m=\u001b[39m(\u001b[38;5;124m'\u001b[39m\u001b[38;5;124mSalesQuantity\u001b[39m\u001b[38;5;124m'\u001b[39m, \u001b[38;5;124m'\u001b[39m\u001b[38;5;124msum\u001b[39m\u001b[38;5;124m'\u001b[39m),\n\u001b[0;32m      7\u001b[0m                                     SalesDollars\u001b[38;5;241m=\u001b[39m(\u001b[38;5;124m'\u001b[39m\u001b[38;5;124mSalesDollars\u001b[39m\u001b[38;5;124m'\u001b[39m, \u001b[38;5;124m'\u001b[39m\u001b[38;5;124msum\u001b[39m\u001b[38;5;124m'\u001b[39m))\u001b[38;5;241m.\u001b[39mreset_index()\n",
      "\u001b[1;31mNameError\u001b[0m: name 'sales_f' is not defined"
     ]
    }
   ],
   "source": [
    "# Retrieve relevant cols and identify top 10 best and slow selling products and label them as such.\n",
    "sales_f_sel_cols = sales_f[['Store', 'Brand', 'Description', 'Size', 'SalesQuantity', \n",
    "                                  'SalesPrice','SalesDollars', 'SalesDate']]\n",
    "# Sales Analysis based on product type\n",
    "sales_f_prod_type = sales_f_sel_cols.groupby(['Brand', 'Description']).agg(\n",
    "                                    SalesQuantity=('SalesQuantity', 'sum'),\n",
    "                                    SalesDollars=('SalesDollars', 'sum')).reset_index()\n",
    "best_selling_prods10 = sales_f_prod_type.sort_values(by=['SalesDollars', 'SalesQuantity'], ascending=False).head(10)\n",
    "slow_selling_prods10 = sales_f_prod_type.sort_values(by=['SalesDollars', 'SalesQuantity'], ascending=False).tail(10)\n",
    "\n",
    "best_selling_prods10['Sales_Speed'] = \"Fast_Moving\"\n",
    "slow_selling_prods10['Sales_Speed'] = \"Slow_Moving\"\n",
    "Sales_f_amount10 = pd.concat([best_selling_prods10, slow_selling_prods10], axis=0)\n",
    "\n",
    "# plot them side by side for comparison \n",
    "fig, axs = plt.subplots(1, 2, figsize=(12, 4), sharey=True)\n",
    "fig.suptitle(\"Top 10 best and slow selling products\", color='tomato', weight='bold', fontsize=12)\n",
    "\n",
    "sns.barplot(data=Sales_f_amount10, y='Description', x='SalesDollars', hue='Sales_Speed', ax=axs[0])\n",
    "axs[0].set_xlabel('Based on $Sales Amount')\n",
    "axs[0].legend(title= 'Sales_Speed', loc=\"lower right\",frameon=False)\n",
    "for p in axs[0].patches:\n",
    "    axs[0].annotate(format(p.get_width(), '.0f'), (p.get_x() + p.get_width(), p.get_y() + p.get_height() / 2.), \n",
    "                    ha='center', va='center', xytext=(20, 0), textcoords='offset points')\n",
    "\n",
    "sns.barplot(data=Sales_f_amount10, y='Description', x='SalesQuantity', hue='Sales_Speed', ax=axs[1])\n",
    "axs[1].set_xlabel('Based on Qty Sold')\n",
    "axs[1].legend(title=\"Sales_Speed\", loc=\"lower right\",frameon=False)\n",
    "for p in axs[1].patches:\n",
    "    axs[1].annotate(format(p.get_width(), '.0f'), (p.get_x() + p.get_width(), p.get_y() + p.get_height() / 2.), \n",
    "                    ha='center', va='center', xytext=(20, 0), textcoords='offset points')\n",
    "plt.tight_layout()\n",
    "plt.show()"
   ]
  },
  {
   "cell_type": "markdown",
   "id": "2db1b50f",
   "metadata": {
    "papermill": {
     "duration": 0.135067,
     "end_time": "2024-06-21T21:41:02.443452",
     "exception": false,
     "start_time": "2024-06-21T21:41:02.308385",
     "status": "completed"
    },
    "tags": []
   },
   "source": [
    "El gráfico de barras anterior compara los productos más y menos vendidos. Algunos productos tienen montos de ventas de alrededor de medio millón y cantidades de aproximadamente 20,000. Por el contrario, también hay productos de movimiento lento con cantidades de ventas tan bajas como uno y montos de ventas menores a un dólar. Por lo tanto, la empresa debería eliminar estos artículos de venta lenta de la lista del próximo año y reemplazarlos con productos de alta demanda."
   ]
  },
  {
   "cell_type": "markdown",
   "id": "20f3ca56",
   "metadata": {
    "papermill": {
     "duration": 0.135968,
     "end_time": "2024-06-21T21:41:02.717002",
     "exception": false,
     "start_time": "2024-06-21T21:41:02.581034",
     "status": "completed"
    },
    "tags": []
   },
   "source": [
    "`2. ¿Cómo se compara el desempeño de ventas de diferentes tiendas y cuáles son las 10 tiendas con el mayor rendimiento en ventas?`\n"
   ]
  },
  {
   "cell_type": "code",
   "execution_count": null,
   "id": "648b6e46",
   "metadata": {
    "execution": {
     "iopub.execute_input": "2024-06-21T21:41:02.989583Z",
     "iopub.status.busy": "2024-06-21T21:41:02.989183Z",
     "iopub.status.idle": "2024-06-21T21:41:04.076473Z",
     "shell.execute_reply": "2024-06-21T21:41:04.075338Z"
    },
    "papermill": {
     "duration": 1.227468,
     "end_time": "2024-06-21T21:41:04.079726",
     "exception": false,
     "start_time": "2024-06-21T21:41:02.852258",
     "status": "completed"
    },
    "tags": []
   },
   "outputs": [],
   "source": [
    "#Compare sales performance of different stores\n",
    "sales_f_store = sales_f_sel_cols.groupby(['Store']).agg(\n",
    "                                    SalesQuantity=('SalesQuantity', 'sum'),\n",
    "                                    SalesDollars=('SalesDollars', 'sum')).reset_index()\n",
    "best_selling_store10 = sales_f_store.sort_values(by=['SalesDollars', 'SalesQuantity'],ascending=False).head(10)\n",
    "worest_selling_store10 = sales_f_store.sort_values(by=['SalesDollars', 'SalesQuantity'],ascending=False).tail(10)\n",
    "\n",
    "#Lable them as Best_Selling and Low_Selling Store\n",
    "best_selling_store10['Performance'] = \"Best_Selling\"\n",
    "worest_selling_store10['Performance'] = \"Low_Selling\"\n",
    "# Compare them\n",
    "store_performance10 = pd.concat([best_selling_store10, worest_selling_store10], axis=0)\n",
    "store_performance10['Store'] = store_performance10['Store'].astype(str) # to consider it as categorical feature\n",
    "\n",
    "# plot them side by side for comparison \n",
    "fig, axs = plt.subplots(1, 2, figsize=(12, 4), sharey=True)\n",
    "fig.suptitle(\"Top 10 best and slow performing Store\", color='tomato', weight='bold', fontsize=12)\n",
    "\n",
    "sns.barplot(data=store_performance10, y='Store', x='SalesDollars', hue='Performance', ax=axs[0])\n",
    "axs[0].set_xlabel('Based on $Sales Amount')\n",
    "axs[0].legend(title= 'Sales_Speed', loc=\"lower right\",frameon=False)\n",
    "sns.barplot(data=store_performance10, y='Store', x='SalesQuantity',  hue='Performance', ax=axs[1])\n",
    "axs[1].set_xlabel('Based on Qty Sold')\n",
    "axs[1].legend(title=\"Sales_Speed\", loc=\"lower right\",frameon=False)\n",
    "\n",
    "plt.tight_layout()\n",
    "plt.show()\n"
   ]
  },
  {
   "cell_type": "markdown",
   "id": "810d3040",
   "metadata": {
    "papermill": {
     "duration": 0.13753,
     "end_time": "2024-06-21T21:41:04.361291",
     "exception": false,
     "start_time": "2024-06-21T21:41:04.223761",
     "status": "completed"
    },
    "tags": []
   },
   "source": [
    "El gráfico de barras horizontal anterior compara el rendimiento de las tiendas. La tienda con mejor desempeño tiene ventas de aproximadamente 1.5 millones y un total de 100,000 artículos vendidos. Por el contrario, la tienda con peor desempeño tiene ventas de menos de $2500 durante este período. Se debe tomar una decisión sobre el futuro de esta tienda, para determinar si vale la pena continuar su operación o no.\n"
   ]
  },
  {
   "cell_type": "markdown",
   "id": "034f8f87",
   "metadata": {
    "papermill": {
     "duration": 0.13897,
     "end_time": "2024-06-21T21:41:04.638208",
     "exception": false,
     "start_time": "2024-06-21T21:41:04.499238",
     "status": "completed"
    },
    "tags": []
   },
   "source": [
    "`¿Qué tamaño de producto se vende más y cuáles no se venden tanto?`\n"
   ]
  },
  {
   "cell_type": "code",
   "execution_count": null,
   "id": "95cff671",
   "metadata": {
    "execution": {
     "iopub.execute_input": "2024-06-21T21:41:04.915506Z",
     "iopub.status.busy": "2024-06-21T21:41:04.915110Z",
     "iopub.status.idle": "2024-06-21T21:41:05.907922Z",
     "shell.execute_reply": "2024-06-21T21:41:05.906694Z"
    },
    "papermill": {
     "duration": 1.135811,
     "end_time": "2024-06-21T21:41:05.911688",
     "exception": false,
     "start_time": "2024-06-21T21:41:04.775877",
     "status": "completed"
    },
    "tags": []
   },
   "outputs": [],
   "source": [
    "#Compare sales performance of different Sizes\n",
    "sales_f_Size = sales_f_sel_cols.groupby(['Size']).agg(\n",
    "                                    SalesQuantity=('SalesQuantity', 'sum'),\n",
    "                                    SalesDollars=('SalesDollars', 'sum')).reset_index()\n",
    "print(\"Unique count of Sizes: \",sales_f_Size['Size'].nunique())\n",
    "best_selling_Size10 = sales_f_Size.sort_values(by=['SalesDollars', 'SalesQuantity'],ascending=False).head(10)\n",
    "worest_selling_Size10 = sales_f_Size.sort_values(by=['SalesDollars', 'SalesQuantity'],ascending=False).tail(10)\n",
    "best_selling_Size10['Performance'] = \"Best_Selling\"\n",
    "worest_selling_Size10['Performance'] = \"Low_Selling\"\n",
    "# Compare them\n",
    "Size_performance10 = pd.concat([best_selling_Size10, worest_selling_Size10], axis=0)\n",
    "Size_performance10['Size'] = Size_performance10['Size'].astype(str) \n",
    "\n",
    "# plot them side by side for comparison \n",
    "fig, axs = plt.subplots(1, 2, figsize=(12, 4), sharey=True)\n",
    "fig.suptitle(\"Top 10 best and slow performing Size\", color='tomato', weight='bold', fontsize=12)\n",
    "sns.barplot(data=Size_performance10, y='Size', x='SalesDollars', hue='Performance', ax=axs[0])\n",
    "axs[0].set_xlabel('Based on $Sales Amount')\n",
    "axs[0].legend(title= 'Sales_Speed', loc=\"lower right\",frameon=False)\n",
    "sns.barplot(data=Size_performance10, y='Size', x='SalesQuantity',  hue='Performance', ax=axs[1])\n",
    "axs[1].set_xlabel('Based on Qty Sold')\n",
    "axs[1].legend(title=\"Sales_Speed\", loc=\"lower right\",frameon=False)\n",
    "plt.tight_layout()\n",
    "plt.show()"
   ]
  },
  {
   "cell_type": "markdown",
   "id": "24810837",
   "metadata": {
    "papermill": {
     "duration": 0.159208,
     "end_time": "2024-06-21T21:41:06.221673",
     "exception": false,
     "start_time": "2024-06-21T21:41:06.062465",
     "status": "completed"
    },
    "tags": []
   },
   "source": [
    "Los gráficos de barras horizontales indican que, de los 31 tamaños de productos disponibles, solo ocho tienen cantidades de ventas significativas y montos de ventas en dólares correspondientes. El tamaño de 0.75L o 750ml es el más vendido tanto en términos de cantidad como de ventas en dólares. Por lo tanto, la empresa debe tener cuidado con el tamaño de producto que ordena.\n"
   ]
  },
  {
   "cell_type": "markdown",
   "id": "8ebf07ec",
   "metadata": {
    "papermill": {
     "duration": 0.141059,
     "end_time": "2024-06-21T21:41:06.522692",
     "exception": false,
     "start_time": "2024-06-21T21:41:06.381633",
     "status": "completed"
    },
    "tags": []
   },
   "source": [
    "`4. ¿Podemos proyectar e identificar las tendencias de ventas a lo largo del año?`\n"
   ]
  },
  {
   "cell_type": "code",
   "execution_count": null,
   "id": "ac038fd7",
   "metadata": {
    "execution": {
     "iopub.execute_input": "2024-06-21T21:41:06.810384Z",
     "iopub.status.busy": "2024-06-21T21:41:06.809421Z",
     "iopub.status.idle": "2024-06-21T21:41:07.358290Z",
     "shell.execute_reply": "2024-06-21T21:41:07.357154Z"
    },
    "papermill": {
     "duration": 0.695552,
     "end_time": "2024-06-21T21:41:07.363570",
     "exception": false,
     "start_time": "2024-06-21T21:41:06.668018",
     "status": "completed"
    },
    "tags": []
   },
   "outputs": [],
   "source": [
    "# Group by 'SalesDate' and aggregate sales quantity and dollars\n",
    "sales_f_trends = sales_f_sel_cols.groupby('SalesDate').agg(\n",
    "                                    SalesQuantity=('SalesQuantity', 'sum'),\n",
    "                                    SalesDollars=('SalesDollars', 'sum')).reset_index()\n",
    "\n",
    "# Plotting sales quantity and sales dollars using Seaborn\n",
    "fig, ax1 = plt.subplots(figsize=(12, 4))\n",
    "sns.lineplot(data=sales_f_trends, x='SalesDate', y='SalesQuantity', marker='.', ax=ax1)\n",
    "ax2 = ax1.twinx() \n",
    "sns.lineplot(data=sales_f_trends, x='SalesDate', y='SalesDollars', marker='1', color='tab:blue', ax=ax2)\n",
    "date_form = DateFormatter(\"%b %Y\\n%d\")  # Show month and year along with day\n",
    "ax1.xaxis.set_major_formatter(date_form) # Formatting x-axis ticks\n",
    "plt.xticks(rotation=45) \n",
    "ax1.set_xlabel('Date')\n",
    "ax1.set_ylabel('Sales Quantity')\n",
    "ax2.set_ylabel('Sales Dollars')\n",
    "plt.title('Daily Sales Quantity and Sales Dollars Over Time')\n",
    "plt.tight_layout()  \n",
    "plt.show()"
   ]
  },
  {
   "cell_type": "markdown",
   "id": "71f0b6a4",
   "metadata": {
    "papermill": {
     "duration": 0.142506,
     "end_time": "2024-06-21T21:41:07.674747",
     "exception": false,
     "start_time": "2024-06-21T21:41:07.532241",
     "status": "completed"
    },
    "tags": []
   },
   "source": [
    "El gráfico de líneas muestra las tendencias de la cantidad total vendida y el monto total de ventas en dólares. Estas dos medidas siguen patrones similares porque una es un múltiplo de la otra. El gráfico exhibe tendencias cíclicas, lo que sugiere altos volúmenes de ventas en días específicos de la semana, tal vez los fines de semana. También se nota un aumento significativo en la última semana de enero."
   ]
  },
  {
   "cell_type": "markdown",
   "id": "a03c2ae5",
   "metadata": {
    "papermill": {
     "duration": 0.140348,
     "end_time": "2024-06-21T21:41:07.955878",
     "exception": false,
     "start_time": "2024-06-21T21:41:07.815530",
     "status": "completed"
    },
    "tags": []
   },
   "source": [
    "# **`Part IV: Recomendaciónes Adicionales`**\n"
   ]
  },
  {
   "cell_type": "markdown",
   "id": "08c3d6b1",
   "metadata": {
    "papermill": {
     "duration": 0.14094,
     "end_time": "2024-06-21T21:41:08.239328",
     "exception": false,
     "start_time": "2024-06-21T21:41:08.098388",
     "status": "completed"
    },
    "tags": []
   },
   "source": [
    "La empresa debe considerar las siguientes acciones y sugerencias:\n",
    "\n",
    "1. Revisar regularmente los tiempos de entrega y, si es posible, trabajar con los proveedores para reducirlos, especialmente para productos con tiempos de entrega más largos.\n",
    "2. Mantener un stock de seguridad adecuado basado en los volúmenes de ventas y los tiempos de entrega para prevenir la escasez de inventario.\n",
    "3. Reducir el exceso de inventario para productos que no se venden como se esperaba para disminuir los costos de mantenimiento de inventario.\n",
    "4. Reequilibrar el inventario para productos con altas ventas pero bajo stock.\n",
    "5. Priorizar el mantenimiento del stock de seguridad para los artículos de categoría A ya que generan altas ventas.\n",
    "6. Realizar solicitudes de reordenamiento inmediatas para productos de alto valor que requieren mayores cantidades de reordenamiento.\n",
    "7. Revisar regularmente la categorización ABC y ajustar el inventario en consecuencia. Específicamente, considerar eliminar los artículos de categoría C que tienen precios de venta muy bajos o no se venden en absoluto y reemplazarlos con productos que puedan generar mejores ingresos.\n",
    "8. Considerar eliminar los artículos de venta lenta de la lista del próximo año y reemplazarlos con productos de alta demanda.\n",
    "9. Evaluar el rendimiento de las tiendas y considerar cerrar o mejorar las tiendas con peor rendimiento.\n",
    "10. Tener en cuenta los tamaños de productos que más se venden y priorizar el pedido de estos tamaños.\n",
    "11. Monitorear las tendencias de ventas y ajustar los niveles de inventario en consecuencia para satisfacer la demanda, especialmente durante los períodos de mayor venta.\n",
    "\n",
    "¡Gracias!"
   ]
  },
  {
   "cell_type": "markdown",
   "id": "7564536c",
   "metadata": {
    "papermill": {
     "duration": 0.143213,
     "end_time": "2024-06-21T21:41:08.526226",
     "exception": false,
     "start_time": "2024-06-21T21:41:08.383013",
     "status": "completed"
    },
    "tags": []
   },
   "source": [
    "Si te gusta mi trabajo o el esfuerzo que pongo, ¡por favor vota a favor! Gracias."
   ]
  },
  {
   "cell_type": "code",
   "execution_count": null,
   "id": "77bd9a1b",
   "metadata": {
    "papermill": {
     "duration": 0.143716,
     "end_time": "2024-06-21T21:41:08.814162",
     "exception": false,
     "start_time": "2024-06-21T21:41:08.670446",
     "status": "completed"
    },
    "tags": []
   },
   "outputs": [],
   "source": []
  },
  {
   "cell_type": "markdown",
   "id": "7e87e57f",
   "metadata": {},
   "source": []
  },
  {
   "cell_type": "code",
   "execution_count": null,
   "id": "4a1f07a2",
   "metadata": {},
   "outputs": [],
   "source": [
    "import pandas as pd\n",
    "import matplotlib.pyplot as plt\n",
    "import seaborn as sns\n",
    "\n",
    "# Asumimos que purchases_f es tu DataFrame de compras\n",
    "# Calcular el tiempo de entrega en días y agregarlo al conjunto de datos\n",
    "purchases_f['Lead_Time'] = (purchases_f['ReceivingDate'] - purchases_f['PODate']).dt.days\n",
    "\n",
    "# Agrupar por mes y calcular el tiempo de entrega promedio\n",
    "average_lead_time = purchases_f.groupby(purchases_f['ReceivingDate'].dt.to_period('M'))['Lead_Time'].mean().reset_index()\n",
    "average_lead_time['ReceivingDate'] = average_lead_time['ReceivingDate'].dt.to_timestamp()\n",
    "\n",
    "# Graficar el tiempo de entrega promedio a lo largo del tiempo\n",
    "plt.figure(figsize=(12, 6))\n",
    "sns.lineplot(data=average_lead_time, x='ReceivingDate', y='Lead_Time', marker='o', color='tab:blue')\n",
    "plt.title('Tiempo de Entrega Promedio a lo Largo del Tiempo', fontsize=14, color='tomato', weight='bold')\n",
    "plt.xlabel('Mes')\n",
    "plt.ylabel('Tiempo de Entrega Promedio (Días)')\n",
    "plt.grid(True, linestyle='--', alpha=0.7)\n",
    "plt.tight_layout()\n",
    "plt.show()\n"
   ]
  }
 ],
 "metadata": {
  "kaggle": {
   "accelerator": "none",
   "dataSources": [
    {
     "datasetId": 3512210,
     "sourceId": 6126523,
     "sourceType": "datasetVersion"
    }
   ],
   "dockerImageVersionId": 30684,
   "isGpuEnabled": false,
   "isInternetEnabled": false,
   "language": "python",
   "sourceType": "notebook"
  },
  "kernelspec": {
   "display_name": "Python 3",
   "language": "python",
   "name": "python3"
  },
  "language_info": {
   "codemirror_mode": {
    "name": "ipython",
    "version": 3
   },
   "file_extension": ".py",
   "mimetype": "text/x-python",
   "name": "python",
   "nbconvert_exporter": "python",
   "pygments_lexer": "ipython3",
   "version": "3.12.2"
  },
  "papermill": {
   "default_parameters": {},
   "duration": 122.545397,
   "end_time": "2024-06-21T21:41:10.182588",
   "environment_variables": {},
   "exception": null,
   "input_path": "__notebook__.ipynb",
   "output_path": "__notebook__.ipynb",
   "parameters": {},
   "start_time": "2024-06-21T21:39:07.637191",
   "version": "2.5.0"
  }
 },
 "nbformat": 4,
 "nbformat_minor": 5
}
